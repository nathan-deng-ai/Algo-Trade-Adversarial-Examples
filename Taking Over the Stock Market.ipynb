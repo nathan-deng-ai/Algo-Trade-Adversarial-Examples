{
 "cells": [
  {
   "cell_type": "markdown",
   "metadata": {
    "id": "5iolIfS9d63E"
   },
   "source": [
    "# Taking Over the Stock Market: Adversarial Perturbations Against Algorithmic Traders\n",
    "\n",
    "\n",
    "---\n",
    "\n",
    "This notebook presents the main contributions of our work submitted to ECML-PKDD 2021. \n",
    "\n",
    "We provided the implementation of our work to help researchers understand better the existence of adversarial examples in the trading domain and to help researchers to easily extend our work.\n",
    "\n",
    "The main parts are:\n",
    "- Read and preprocess the data\n",
    "- Build and train the alpha models\n",
    "- Generate a Targeted Universal Perturbation\n",
    "- Evaluate and visualize the results\n",
    "- Build and evaluate mitigation solutions\n"
   ]
  },
  {
   "cell_type": "markdown",
   "metadata": {
    "id": "KEepNy43egRf"
   },
   "source": [
    "Imports:"
   ]
  },
  {
   "cell_type": "code",
   "execution_count": null,
   "metadata": {
    "colab": {
     "base_uri": "https://localhost:8080/"
    },
    "id": "B_x1gXubw-v0",
    "outputId": "26aa7818-6cc7-4664-ee26-fa9317da0e02"
   },
   "outputs": [
    {
     "name": "stdout",
     "output_type": "stream",
     "text": [
      "TensorFlow 1.x selected.\n"
     ]
    },
    {
     "name": "stderr",
     "output_type": "stream",
     "text": [
      "Using TensorFlow backend.\n"
     ]
    },
    {
     "name": "stdout",
     "output_type": "stream",
     "text": [
      "Mounted at /content/drive/\n"
     ]
    }
   ],
   "source": [
    "%tensorflow_version 1.x\n",
    "import tensorflow as tf\n",
    "from tensorflow import keras\n",
    "from tensorflow.keras import layers\n",
    "import keras.backend as K\n",
    "from keras.models import Sequential\n",
    "from keras.layers import LSTM,Dense, Dropout, BatchNormalization, Conv1D, MaxPooling1D, Flatten, Reshape\n",
    "from sklearn.preprocessing import MinMaxScaler\n",
    "import matplotlib.pyplot as plt\n",
    "from sklearn.metrics import mean_squared_error, accuracy_score, confusion_matrix\n",
    "from numpy.random import seed\n",
    "from math import sqrt\n",
    "import numpy as np # linear algebra\n",
    "import pandas as pd # data processing\n",
    "from datetime import datetime\n",
    "import timeit\n",
    "\n",
    "import warnings\n",
    "warnings.filterwarnings(\"ignore\", category=DeprecationWarning)\n",
    "warnings.filterwarnings(\"ignore\", category=FutureWarning)\n"
   ]
  },
  {
   "cell_type": "markdown",
   "metadata": {
    "id": "kX0xRBEPe746"
   },
   "source": [
    "# preprocess\n",
    "\n",
    "\n",
    "\n"
   ]
  },
  {
   "cell_type": "markdown",
   "metadata": {
    "id": "o5uk8zLeeicn"
   },
   "source": [
    "Load one symbol:"
   ]
  },
  {
   "cell_type": "code",
   "execution_count": null,
   "metadata": {
    "id": "UUgWtdFFeRoO"
   },
   "outputs": [],
   "source": [
    "# read the data and define the columns\n",
    "def readSymbolData(Symbol):\n",
    "    # Symbol must be the stock specific name as a string\n",
    "    data = pd.read_csv('path_to_our_dir/splited_s&p500/'+Symbol+'.csv',parse_dates=['Unnamed: 0.1'])\n",
    "    #fill nan with last val instance\n",
    "    data = data.fillna(method='ffill')\n",
    "    # for cases where the first raw is missing\n",
    "    X = pd.DataFrame(removeEarly(data))\n",
    "    X.columns = ['Date', 'Open','High','Low','Close','Volume']\n",
    "    return X\n",
    "\n",
    "# remove missing values\n",
    "def removeEarly(data):\n",
    "    for i in range(50):\n",
    "    if not data.iloc[i,5] == 'close':\n",
    "        return data.iloc[i:, 1:]\n",
    "    \n",
    "# parsing the hour and minute out from the time stamp\n",
    "def parse_hour(time):\n",
    "    time = datetime.strptime(time, '%Y-%m-%d %H:%M:%S')\n",
    "    return time.hour - 9\n",
    "\n",
    "def parse_minute(time):\n",
    "    time = datetime.strptime(time, '%Y-%m-%d %H:%M:%S')\n",
    "    return time.minute\n",
    "\n",
    "# parsing and adding minute, hour to the data\n",
    "def parseTime(X):\n",
    "    # parsing time to hour and minute\n",
    "    X['Minute'] = X['Date'].apply(parse_minute)\n",
    "    X['Hour'] = X['Date'].apply(parse_hour)\n",
    "    return X\n",
    "\n",
    "# aggregating the data to extract avg,std,trend,time\n",
    "def np_agg_perN(data, aggN):\n",
    "    avg,std,trend,minute,hour,close = [],[],[],[],[],[]\n",
    "    for i in range(int(len(data)/aggN)):\n",
    "        start = i*aggN\n",
    "        curData = np.array(data[start:start+aggN,4], dtype=np.float64)\n",
    "        avg.insert(i, np.mean(curData, dtype=np.float64))\n",
    "        std.insert(i, np.std(curData, dtype=np.float64))\n",
    "        a1_param,_ = np.polyfit(range(aggN), curData, 1)\n",
    "        trend.insert(i, a1_param)\n",
    "        minute.append(data[start+aggN-1,6]) #minute\n",
    "        hour.append(data[start+aggN-1,7]) #hour\n",
    "        close.append(data[start+aggN-1,4]) # close\n",
    "    return np.array(avg), np.array(std), np.array(trend), np.array(minute), np.array(hour), np.array(close)\n",
    "\n",
    "# calculates the pseudo log return (difference between avg prices)\n",
    "def np_pseudoLogReturn(data):\n",
    "    PLogReturn = []\n",
    "    for i in range(len(data)):\n",
    "    if(i>0):\n",
    "        PLogReturn.append(np.log(data[i]/data[i-1])) \n",
    "    return np.array(PLogReturn, dtype = np.float64)\n",
    "\n",
    "# evaluation for classifier: mse, acc\n",
    "def eval_clf_Model(prediction, y_test):\n",
    "    mse = mean_squared_error(y_test, prediction)\n",
    "    print('mse: ' + str(mse))\n",
    "    acc = accuracy_score(y_test, prediction)\n",
    "    print('Accuracy:'+str(acc))\n",
    "    \n",
    "    return mse, acc\n",
    "  \n",
    "#preper the time series data chanks\n",
    "def np_processData(data,lookBack):\n",
    "    X,Y = [],[]\n",
    "    shapaes = []\n",
    "    for i in range(len(data)-lookBack):        \n",
    "        X.append(np.matrix(data[i:(i+lookBack),:]))\n",
    "        Y.append(data[(i+lookBack),0])   #need to be careful with \n",
    "    return np.array(X),np.array(Y)\n",
    "  \n",
    "# Full preproccess for our classification task:\n",
    "def np_clf_aggAndSliceData(X, aggParam=5, lookBack=5, disjoint = False):\n",
    "    # Aggrigation of the data to get std and trend indicatiors\n",
    "    avg, std, trend, minute, hour, close = np_agg_perN(X,aggParam)\n",
    "    logAVG = np_pseudoLogReturn(avg)\n",
    "\n",
    "    minute = minute.reshape(len(minute),1)\n",
    "    hour = hour.reshape(len(hour),1)\n",
    "    close = close.reshape(len(close),1)\n",
    "    avg = avg.reshape(len(avg),1)\n",
    "    X_time = np.concatenate([minute,hour,close,avg],axis=1)\n",
    "\n",
    "    logAVG = logAVG.reshape(len(logAVG),1)\n",
    "    std = std[1:]\n",
    "    trend = trend[1:]\n",
    "    std = std.reshape(len(std),1)\n",
    "    trend = trend.reshape(len(trend),1)\n",
    "    procData = np.concatenate([logAVG,std,trend],axis=1)\n",
    "\n",
    "    #  create data & split by 70-30 rate  \n",
    "    proc_x, proc_y = np_processData(procData,lookBack)\n",
    "    X_train = np.reshape(proc_x, (proc_x.shape[0],proc_x.shape[1]*proc_x.shape[2]))\n",
    "    X_time = X_time[lookBack:-1]\n",
    "    merged = np.concatenate([X_train,X_time],axis=1)\n",
    "    merged = np.array(merged,dtype=float)\n",
    "    proc_y = proc_y>0\n",
    "    proc_y = proc_y.astype(int)\n",
    "    proc_y = keras.utils.to_categorical(proc_y)\n",
    "    # shrink the data for disjoint samples if needed\n",
    "    if disjoint == True:\n",
    "        merged = np.array([merged[i*5] for i in range(int(np.floor(merged.shape[0]/5)))])\n",
    "        proc_y = np.array([proc_y[i*5] for i in range(int(np.floor(proc_y.shape[0]/5)))])\n",
    "    X_train,X_test = merged[:int(merged.shape[0]*0.7)],merged[int(merged.shape[0]*0.7):]\n",
    "    y_train,y_test = proc_y[:int(proc_y.shape[0]*0.7)],proc_y[int(proc_y.shape[0]*0.7):]\n",
    "    return X_train, X_test, y_train, y_test\n",
    "\n",
    "def get_train_data(rawData, aggParam, lookBack):\n",
    "    X_train1, X_test1, y_train1, y_test1 = np_clf_aggAndSliceData(X, aggParam, lookBack)\n",
    "    X_train2, X_test2, y_train2, y_test2 = np_clf_aggAndSliceData(X[1:], aggParam, lookBack)\n",
    "    X_train3, X_test3, y_train3, y_test3 = np_clf_aggAndSliceData(X[2:], aggParam, lookBack)\n",
    "    X_train4, X_test4, y_train4, y_test4 = np_clf_aggAndSliceData(X[3:], aggParam, lookBack)\n",
    "    X_train5, X_test5, y_train5, y_test5 = np_clf_aggAndSliceData(X[4:], aggParam, lookBack)\n",
    "    X_train = np.concatenate((X_train1, X_train2, X_train3, X_train4, X_train5), axis=0)\n",
    "    y_train = np.concatenate((y_train1,y_train2,y_train3,y_train4,y_train5), axis=0)\n",
    "    return X_train, y_train\n"
   ]
  },
  {
   "cell_type": "markdown",
   "metadata": {
    "id": "MpvyYADO30hb"
   },
   "source": [
    "# model"
   ]
  },
  {
   "cell_type": "code",
   "execution_count": null,
   "metadata": {
    "id": "XwtwkMYdLxp1"
   },
   "outputs": [],
   "source": [
    "# locking the RNG seed for better evaluation\n",
    "def lockSeed():\n",
    "    seed(1)\n",
    "    tf.random.set_random_seed(2)\n",
    "\n",
    "# create DNN model\n",
    "def create_DNN_clf(X_train, y_train, nFeatures, nEpochs):\n",
    "    model = Sequential()\n",
    "\n",
    "    model.add(Dense(nFeatures, activation='tanh', input_shape=(nFeatures,)))\n",
    "    model.add(Dense(int(np.floor(4*nFeatures/5)), activation='tanh'))\n",
    "    model.add(Dense(int(np.floor(3*nFeatures/5)), activation='tanh'))\n",
    "    model.add(Dense(int(np.floor(2*nFeatures/5)), activation='tanh'))\n",
    "    model.add(Dense(int(np.floor(nFeatures/5)), activation='tanh'))\n",
    "\n",
    "    model.add(Dense(2, activation='softmax'))\n",
    "\n",
    "    model.compile(loss='binary_crossentropy', optimizer='adam', metrics=['accuracy'])\n",
    "\n",
    "    history = model.fit(X_train[:,:nFeatures],y_train,validation_split = 0.2,epochs=nEpochs,shuffle=True,verbose=0)\n",
    "    return model, history\n",
    "\n",
    "#create 1d CNN model\n",
    "def create_1dCNN_clf(X_train, y_train, nFeatures, nEpochs):\n",
    "    model = Sequential()\n",
    "    model.add(Reshape((5, 3), input_shape=(15,)))\n",
    "    model.add(Conv1D(filters=64, kernel_size=3, activation='relu', input_shape=(5,3)))\n",
    "    model.add(Dense(100, activation='relu'))\n",
    "    model.add(Dropout(0.2))\n",
    "    model.add(Flatten())\n",
    "    model.add(Dense(100, activation='relu'))\n",
    "    model.add(Dense(2, activation='softmax'))\n",
    "    model.compile(loss='categorical_crossentropy', optimizer='adam', metrics=['accuracy'])\n",
    "    # fit network\n",
    "    history = model.fit(X_train[:,:nFeatures-2], y_train,validation_split = 0.2,epochs=nEpochs, batch_size=32,shuffle=True, verbose=0)\n",
    "    return model, history\n",
    "\n",
    "#create RNN model\n",
    "def create_RNN_clf(X_train, y_train, nFeatures, nEpochs):\n",
    "    model = Sequential()\n",
    "    model.add(Reshape((5, 3), input_shape=(15,)))\n",
    "    model.add(LSTM(50,input_shape=(5,3),return_sequences=True))\n",
    "    model.add(Dropout(0.2))\n",
    "    model.add(LSTM(50,return_sequences=False))\n",
    "    model.add(Dense(50, activation='relu'))\n",
    "    model.add(Dense(2, activation='softmax'))\n",
    "    model.compile(loss='categorical_crossentropy', optimizer='adam', metrics=['accuracy'])\n",
    "    history = model.fit(X_train[:,:nFeatures-2], y_train,validation_split = 0.2,epochs=nEpochs, batch_size=32,shuffle=True, verbose=0)\n",
    "    return model, history\n"
   ]
  },
  {
   "cell_type": "markdown",
   "metadata": {
    "id": "8ZZfRYY7fenP"
   },
   "source": [
    "# TUAP\n"
   ]
  },
  {
   "cell_type": "code",
   "execution_count": null,
   "metadata": {
    "id": "p5HL_3ChlhO1"
   },
   "outputs": [],
   "source": [
    "# preprocces for one sample at a time\n",
    "def np_clf_preprocces_one_sample(X, aggParam=5, lookBack=5):\n",
    "    # Aggrigation of the data to get std and trend indicatiors\n",
    "    avg, std, trend, minute, hour, close = np_agg_perN(X,aggParam)\n",
    "    logAVG = np_pseudoLogReturn(avg)\n",
    "\n",
    "    minute = minute.reshape(len(minute),1)\n",
    "    hour = hour.reshape(len(hour),1)\n",
    "    close = close.reshape(len(close),1)\n",
    "    avg = avg.reshape(len(avg),1)\n",
    "    X_time = np.concatenate([minute,hour,close,avg],axis=1)\n",
    "\n",
    "    logAVG = logAVG.reshape(len(logAVG),1)\n",
    "    std = std[1:]\n",
    "    trend = trend[1:]\n",
    "    std = std.reshape(len(std),1)\n",
    "    trend = trend.reshape(len(trend),1)\n",
    "    procData = np.concatenate([logAVG,std,trend],axis=1)\n",
    "\n",
    "    #  create data & split by 80-20 rate  \n",
    "    proc_x, proc_y = np_processData(procData,lookBack)\n",
    "    X_train = np.reshape(proc_x, (proc_x.shape[0],proc_x.shape[1]*proc_x.shape[2]))\n",
    "    X_time = X_time[lookBack:-1]\n",
    "    merged = np.concatenate([X_train,X_time],axis=1)\n",
    "    merged = np.array(merged,dtype=float)\n",
    "    proc_y = proc_y>0\n",
    "    proc_y = proc_y.astype(int)\n",
    "    proc_y = keras.utils.to_categorical(proc_y, num_classes=2)\n",
    "\n",
    "    return merged, proc_y\n",
    "\n",
    "# fitting the uap and creating the adversarial input data\n",
    "def prep(data, UAP, aggParam=5, lookBack=5):\n",
    "    arr_x, arr_y = [], []\n",
    "    for x in data:\n",
    "        if type(UAP) == type(0):\n",
    "            _x, _y = np_clf_preprocces_one_sample(x, aggParam, lookBack)\n",
    "        else:\n",
    "            zeroPad = np.zeros(shape=x.shape, dtype=np.float32)\n",
    "            zeroPad[:,1:] += np.array(x[:,1:], dtype=np.float32)+UAP\n",
    "            _x, _y = np_clf_preprocces_one_sample(zeroPad, aggParam, lookBack)\n",
    "        arr_x.append(_x[0])\n",
    "        arr_y.append(_y[0])\n",
    "    arr_x = np.array(arr_x)\n",
    "    arr_y = np.array(arr_y)\n",
    "    return arr_x, arr_y\n",
    "\n",
    "# evaluation for untargeted attack\n",
    "def eval_UAP(model, UAP, data, nFeatures):\n",
    "    X_ben, y = prep(data, 0)\n",
    "    X_adv, _ = prep(data, UAP)\n",
    "    orig_preds = model.predict(X_ben[:,:nFeatures])\n",
    "    orig_preds = np.argmax(orig_preds, axis=-1)\n",
    "    orig_preds = keras.utils.to_categorical(orig_preds,2)\n",
    "    adv_preds = model.predict(X_adv[:,:nFeatures])\n",
    "    adv_preds = np.argmax(adv_preds, axis=-1)\n",
    "    adv_preds = keras.utils.to_categorical(adv_preds,2)\n",
    "    accFlips = 1 - accuracy_score(orig_preds, adv_preds)\n",
    "    accTrue = accuracy_score(y, adv_preds)\n",
    "    orig_accTrue = accuracy_score(y, orig_preds)\n",
    "    return accFlips, accTrue, orig_accTrue\n",
    "\n",
    "# evaluation for targeted uap\n",
    "def eval_UAP_targeted(model, UAP, data, target,aggParam, lookBack, nFeatures):\n",
    "    UAP = fitUAP(UAP, data[0])\n",
    "    X_ben, y = prep(data, 0,aggParam, lookBack)\n",
    "    X_adv, _ = prep(data, UAP,aggParam, lookBack)\n",
    "    for i in range(y.shape[0]):\n",
    "        y[i] = target\n",
    "    orig_preds = model.predict(X_ben[:,:nFeatures])\n",
    "    orig_preds = np.argmax(orig_preds, axis=-1)\n",
    "    orig_preds = keras.utils.to_categorical(orig_preds,2)\n",
    "    adv_preds = model.predict(X_adv[:,:nFeatures])\n",
    "    adv_preds = np.argmax(adv_preds, axis=-1)\n",
    "    adv_preds = keras.utils.to_categorical(adv_preds,2)\n",
    "    accFlips = 1 - accuracy_score(orig_preds, adv_preds)\n",
    "    acc_mal_Target = accuracy_score(y, adv_preds)\n",
    "    acc_ben_Target = accuracy_score(y,orig_preds)\n",
    "    return accFlips, acc_ben_Target,acc_mal_Target\n",
    "\n",
    "# eval random perturbations\n",
    "def eval_rand_noise(model,data,target,size,nFeatures):\n",
    "    rand_perturbs = [getRandomUAP(size) for i in range(10)]\n",
    "    flips, acc_rnd = [],[]\n",
    "    for perturb in rand_perturbs:\n",
    "        rndFlips, acc_ben_Target,acc_rnd_Target = eval_UAP_targeted(model,perturb,data,target,5,5,nFeatures)\n",
    "        flips.append(rndFlips)\n",
    "        acc_rnd.append(acc_rnd_Target)\n",
    "    return np.mean(flips), np.mean(acc_rnd), acc_ben_Target\n",
    "\n",
    "\n",
    "# add padding for different window sizes if needed\n",
    "def fitUAP(UAP,x):\n",
    "    pad = np.zeros((x.shape[0],UAP.shape[-1]))\n",
    "    pad[x.shape[0]-UAP.shape[0]:,:] = UAP\n",
    "    return pad\n"
   ]
  },
  {
   "cell_type": "code",
   "execution_count": null,
   "metadata": {
    "id": "etlgK1pilZ8M"
   },
   "outputs": [],
   "source": [
    "# targeted universal perturbation algorithm \n",
    "def targeted_UAP(train_set, model,target_label ,isSeries = 0 ):\n",
    "  aggN = 5\n",
    "  input_shape = (35,7)\n",
    "  num_classes = 2\n",
    "  volume = np.median(np.array(train_set[:,1,4],dtype=np.float32))*0.002 #0.2% of the price\n",
    "  step = volume/25 # arbitrary step  \n",
    "  \n",
    "  # define the perturbation surface \n",
    "  mask = np.zeros(input_shape,dtype=np.float32 )\n",
    "  for i in range(25):\n",
    "    mask[i+5,3] = 1.\n",
    "\n",
    "  ######## Build the tensor graph including preprocces ###########\n",
    "\n",
    "  # define Variables \n",
    "  data = tf.placeholder(tf.float32, shape=input_shape)\n",
    "  target = tf.placeholder(tf.float32, (1,2))\n",
    "  global_uap = tf.Variable(np.zeros(input_shape, dtype=np.float32))\n",
    "  perturbation = tf.Variable(np.zeros(input_shape, dtype=np.float32))\n",
    "\n",
    "  x_adv = (global_uap + perturbation)*mask + data\n",
    "\n",
    "  ########### preprocess ########################\n",
    "  cSlices = int(np.floor(35/aggN))\n",
    "  slices = tf.stack([x_adv[i*aggN:i*aggN+aggN, 3] for i in range(cSlices)])\n",
    "  avg = tf.reduce_mean(slices, axis=1)\n",
    "  std = tf.keras.backend.std(slices, axis=1)\n",
    "\n",
    "  #compute the trend indicator\n",
    "  x = np.arange(1, aggN + 1, dtype = np.float32)\n",
    "  b1 = aggN*tf.reduce_sum(x*slices, axis=1)-tf.reduce_sum(x)*tf.reduce_sum(slices, axis=1)\n",
    "  trend = b1/(aggN*tf.reduce_sum(x**2) - tf.reduce_sum(x)**2)\n",
    "\n",
    "  #fix time vars\n",
    "  minute = tf.stack([x_adv[i*aggN+aggN-1, 5] for i in range(cSlices)])# minute\n",
    "  hour = tf.stack([x_adv[i*aggN+aggN-1, 6] for i in range(cSlices)])# hour\n",
    "  close = tf.stack([x_adv[i*aggN+aggN-1, 3] for i in range(cSlices)])# close\n",
    "\n",
    "  #tf pseudoLogReturn\n",
    "  avg_next = tf.concat([[0],tf.identity(avg)],axis=0)\n",
    "  avg = tf.concat([avg,[0]],axis=0)\n",
    "  logAVG = tf.log(avg/avg_next)[1:avg.shape[0]-1]\n",
    "  avg = avg[:avg.shape[0]-1]\n",
    "\n",
    "  #concat time vars\n",
    "  minute = tf.reshape(minute,[minute.shape[0],1])\n",
    "  hour = tf.reshape(hour, [hour.shape[0],1])\n",
    "  close = tf.reshape(close, [close.shape[0],1])\n",
    "  avg = tf.reshape(avg,[avg.shape[0],1])\n",
    "  X_time = tf.concat([minute,hour,close,avg],axis=1)\n",
    "\n",
    "  #concat procData\n",
    "  logAVG = tf.reshape(logAVG,[logAVG.shape[0],1])\n",
    "  std = std[1:]\n",
    "  trend = trend[1:]\n",
    "  std = tf.reshape(std, [std.shape[0],1])\n",
    "  trend = tf.reshape(trend, [trend.shape[0],1])\n",
    "  procData = tf.concat([logAVG,std,trend],axis=1)\n",
    "\n",
    "  #create data \n",
    "  proc_x = tf.stack([procData[i:i+lookBack,:] for i in range(procData.shape[0]-lookBack)])\n",
    "  proc_y = tf.stack([procData[i+lookBack,0] for i in range(procData.shape[0]-lookBack)])\n",
    "  proc_y = tf.convert_to_tensor(proc_y)\n",
    "  proc_y = tf.to_int32(tf.clip_by_value(tf.sign(proc_y), 0,1))\n",
    "  proc_y = tf.one_hot(proc_y,2)\n",
    "\n",
    "\n",
    "  X_lastN = tf.reshape(proc_x, [proc_x.shape[0],proc_x.shape[1]*proc_x.shape[2]])\n",
    "  X_time = X_time[lookBack:-1,:]\n",
    "  merged = tf.concat([X_lastN,X_time],axis=1)\n",
    "\n",
    "  sample_x = merged\n",
    "  sample_y = proc_y\n",
    "  ################################################\n",
    "  ########### end of preprocess ##################\n",
    "  if isSeries:\n",
    "    prediction = model(sample_x[:,:nFeatures-2])\n",
    "  else: prediction = model(sample_x[:,:nFeatures])\n",
    "\n",
    "  loss = tf.keras.losses.binary_crossentropy(target, prediction)\n",
    "\n",
    "  grad = tf.gradients(loss, perturbation)\n",
    "  grad = tf.where(tf.is_nan(grad), tf.zeros_like(grad)*1, grad) #replace nans with zeros\n",
    "\n",
    "  # initialize variables\n",
    "  old_vars = set(x.name for x in tf.global_variables())\n",
    "  new_vars = [x for x in tf.global_variables() if x.name not in old_vars]\n",
    "\n",
    "  _global_uap = np.zeros(input_shape)\n",
    "  sess.run(tf.initialize_variables([global_uap] + new_vars))\n",
    "  \n",
    "  # main loop:\n",
    "  current_fooling = 0\n",
    "  for epoch in range(10):\n",
    "    if current_fooling > 0.9: # update the UAP untill reaching 90% fooling rate\n",
    "      break\n",
    "    current_fooling = 0\n",
    "\n",
    "    # for each data point x in the train set update the UAP to predict the desierd target\n",
    "    for x in train_set[:,:,1:]: \n",
    "      init_new_vars_op = tf.initialize_variables([perturbation])\n",
    "      sess.run(init_new_vars_op)\n",
    "      _prediction, y_true = sess.run([prediction, sample_y], {data: x, \n",
    "                                                              target: target_label})\n",
    "      if np.argmax(_prediction, axis=-1) == np.argmax(target_label, axis=-1):\n",
    "            current_fooling += 1\n",
    "            continue\n",
    "     \n",
    "      # create the minimal perturbation needed to take x to the target class\n",
    "      for _ in range(10): \n",
    "        _grad, _perturbation, _prediction, _loss = sess.run([grad, perturbation, prediction, loss], {data: x,\n",
    "                                                                                                    target: target_label})\n",
    "        perturbation.load((_perturbation - np.sign(_grad)*step).squeeze(),sess)\n",
    "\n",
    "        # update the global UAP for the minimal change and then project to controll the magnitude\n",
    "        if np.argmax(_prediction, axis=-1) == np.argmax(target_label, axis=-1):\n",
    "            _global_uap += _perturbation\n",
    "            _global_uap = L2_projection(_global_uap, volume*10)\n",
    "            global_uap.load(_global_uap, sess)\n",
    "            EarlyStop = 0 \n",
    "            break\n",
    " \n",
    "    # calc the new fooling rate \n",
    "    current_fooling = current_fooling / train_set.shape[0]\n",
    "  return _global_uap "
   ]
  },
  {
   "cell_type": "code",
   "execution_count": null,
   "metadata": {
    "id": "6Iqj7K8tlSD1"
   },
   "outputs": [],
   "source": [
    "# check if the train set contain balance data points\n",
    "def isPortion(data, min_p,max_p, target):\n",
    "    nSamples = data.shape[0]\n",
    "    X_ben, y = prep(data, 0,5, 5)\n",
    "    a = np.argmax(y, axis = -1)\n",
    "    unique_elements, counts_elements = np.unique(a, return_counts=True)\n",
    "    if target == 'up':\n",
    "        return (counts_elements[0]>=(min_p*nSamples)) and (counts_elements[0]<=(max_p*nSamples))\n",
    "    return (counts_elements[1]>=(min_p*nSamples)) and (counts_elements[1]<=(max_p*nSamples))\n",
    "\n",
    "#  split the test set by trading days\n",
    "def splitByDays(X):\n",
    "    last_day = datetime.strptime(X[0,0], '%Y-%m-%d %H:%M:%S').day\n",
    "    arr = []\n",
    "    new_day = []\n",
    "    i=0\n",
    "    for raw in X:\n",
    "        day = datetime.strptime(raw[0], '%Y-%m-%d %H:%M:%S').day\n",
    "        if day != last_day:\n",
    "            arr.append(np.array(new_day))\n",
    "            new_day = []\n",
    "        new_day.append(raw)\n",
    "        last_day = day\n",
    "    return np.array(arr)\n",
    "\n",
    "# sample unifomly from the data\n",
    "def sampleUniform(data,nSamples):\n",
    "    max_idx = len(data)-35\n",
    "    idx_arr = np.random.uniform(0,max_idx,nSamples)\n",
    "    samples = [data[int(i):int(i)+35] for i in idx_arr]\n",
    "    return np.array(samples)\n",
    "\n",
    "# prepering the train and test sets creating and testing the UAP\n",
    "def getSamplesByDays(X, target):\n",
    "    days_data = splitByDays(X[np.int(X.shape[0]*0.7):,:])\n",
    "    train_UAP = sampleUniform(np.concatenate((days_data[0],days_data[1],days_data[2]),axis=0),120)\n",
    "    while not isPortion(train_UAP,0.5,0.55, target):\n",
    "        train_UAP = sampleUniform(np.concatenate((days_data[0],days_data[1],days_data[2]),axis=0),120)\n",
    "    test_UAP = []\n",
    "    for i in range(6):\n",
    "        test_UAP.append(np.concatenate([sampleUniform(days_data[i*5+3+j],40) for j in range(5)],axis=0))\n",
    "    return train_UAP, test_UAP"
   ]
  },
  {
   "cell_type": "code",
   "execution_count": null,
   "metadata": {
    "id": "WU80AK7A_Kem"
   },
   "outputs": [],
   "source": [
    "# returns target lable for up/down direction\n",
    "def getTarget(direction):\n",
    "    target = np.ones((1,1),dtype = np.int8)\n",
    "    if direction == 'down':\n",
    "        target[0] = 0\n",
    "    target = keras.utils.to_categorical(target, num_classes=2)\n",
    "    return target\n",
    "\n",
    "# projection of the perturbation into a epsilon radius ball (L2 norm)\n",
    "def L2_projection(perturbation, epsilon):\n",
    "    norm = np.sum(np.square(perturbation))\n",
    "    norm = np.sqrt(np.maximum(10e-12, norm))\n",
    "    factor = np.minimum(1, np.divide(epsilon, norm))\n",
    "    return perturbation*factor\n",
    "\n",
    "# avareging the UP/DOWN results\n",
    "def procResult(evals):\n",
    "    evals = np.array(evals)\n",
    "    res = []\n",
    "    for i in range(3):\n",
    "        res.append((evals[i]+evals[i+3])/2)\n",
    "    return res\n",
    "\n",
    "# creates random noise for comparison with our attack\n",
    "def getRandomUAP(size):\n",
    "    mask = np.zeros((35,7),dtype=np.float32 )\n",
    "    rand_noise = np.random.normal(0,1,25)\n",
    "    factor = size/np.mean(np.abs(rand_noise))\n",
    "    mask[5:30,3] = rand_noise*factor\n",
    "    return mask\n",
    "\n",
    "# calculate the relative size of our perturbation\n",
    "# simply divide the mean perturbation size by the mean of the traind close price\n",
    "def relativeSize(train_data, UAP):\n",
    "    trained_mean = np.mean(train_data[:,5:30,3],dtype=np.float32)\n",
    "    perturbation_mean = np.mean(np.abs(UAP[5:30,3]))\n",
    "    return perturbation_mean/trained_mean*100\n",
    "\n",
    "# changing only the 8 most significant gradients\n",
    "def updateStep(perturbation, gradient, step):\n",
    "    top_significent = np.sort(np.abs(gradient[:,3]))[-9]\n",
    "    gradient = np.where(gradient**2<top_significent**2,0,gradient)\n",
    "    new_perturbation = perturbation - np.sign(gradient)*step\n",
    "    return new_perturbation"
   ]
  },
  {
   "cell_type": "code",
   "execution_count": null,
   "metadata": {
    "id": "r4DwxfDw89uK"
   },
   "outputs": [],
   "source": [
    "# targeted universal perturbation algorithm \n",
    "# calculate the UAP on batches for better optimization\n",
    "def targeted_batch_UAP(train_set, model,target_label ,isSeries = 0 ):\n",
    "  aggN = 5\n",
    "  batch_size = 8\n",
    "  batch_shape = (8,35,7)\n",
    "  input_shape = (35,7)\n",
    "  num_classes = 2\n",
    "  volume = np.mean(np.array(train_set[:,1,4],dtype=np.float32))*0.002 #0.2% of the price\n",
    "  step = volume/80 # arbitrary step  \n",
    "  \n",
    "  # define the perturbation surface \n",
    "  mask = np.zeros(input_shape,dtype=np.float32 )\n",
    "  for i in range(25):\n",
    "    mask[i+5,3] = 1.\n",
    "\n",
    "  ######## Build the tensor graph including preprocces ###########\n",
    "\n",
    "  # define Variables \n",
    "  data = tf.placeholder(tf.float32, shape=batch_shape)\n",
    "  target = tf.placeholder(tf.float32, (8,2))\n",
    "  global_uap = tf.Variable(np.zeros(input_shape, dtype=np.float32))\n",
    "  perturbation = tf.Variable(np.zeros(input_shape, dtype=np.float32))\n",
    "\n",
    "  x_adv = data + (global_uap + perturbation)*mask \n",
    "\n",
    "  sample_x = tf.map_fn(tf_preprocess,x_adv)\n",
    "  sample_x = tf.reshape(sample_x, (8,19))\n",
    "  ######### end of preprocess ##################\n",
    "  if isSeries:\n",
    "    prediction = model(sample_x[:,:nFeatures-2])\n",
    "  else: prediction = model(sample_x[:,:nFeatures])\n",
    " \n",
    "  #  new try with different loss #\n",
    "  logits = tf.log(prediction)\n",
    "  target_logit = tf.reduce_sum(logits*target_label,1)\n",
    "  source_logit = tf.reduce_max((1-target_label)*logits-target_label*1e10,1)\n",
    "\n",
    "  loss = tf.reduce_sum(tf.maximum(0.,source_logit-target_logit+2))\n",
    "  ################################ \n",
    "\n",
    "\n",
    "  grad = tf.gradients(loss, perturbation)\n",
    "  grad = tf.where(tf.is_nan(grad), tf.zeros_like(grad)*1, grad) #replace nans with zeros\n",
    "\n",
    "  # initialize variables\n",
    "  old_vars = set(x.name for x in tf.global_variables())\n",
    "  new_vars = [x for x in tf.global_variables() if x.name not in old_vars]\n",
    "\n",
    "  _global_uap = np.zeros(input_shape)\n",
    "  sess.run(tf.initialize_variables([global_uap] + new_vars))\n",
    "  \n",
    "  batch_labels = np.zeros((8,2))\n",
    "  batch_labels[:,:] = target_label\n",
    "  # main loop:\n",
    "  current_fooling = 0\n",
    "  for epoch in range(20):\n",
    "    if current_fooling > 0.95: # update the UAP untill reaching 95% fooling rate\n",
    "      break\n",
    "    current_fooling = 0\n",
    "    # now i move for batch iterations\n",
    "    for batch in [train_set[i*8:i*8+8,:,1:] for i in range(int(train_set.shape[0]/8))]: \n",
    "      init_new_vars_op = tf.initialize_variables([perturbation])\n",
    "      sess.run(init_new_vars_op)\n",
    "      _prediction = sess.run([prediction], {data: batch, target: batch_labels})\n",
    "      batch_acc = accuracy_score(np.argmax(batch_labels,axis=-1), np.argmax(_prediction[0], axis=-1))\n",
    "      current_fooling += (batch_acc*8)\n",
    "      if batch_acc>0.95:\n",
    "        continue\n",
    "      # create the minimal perturbation needed to take x to the target class\n",
    "      for _ in range(10): \n",
    "        _grad, _perturbation, _prediction, _loss = sess.run([grad, perturbation, prediction, loss], {data: batch,\n",
    "                                                                                                    target: batch_labels})\n",
    "        perturbation.load((updateStep(_perturbation,_grad[0], step)),sess)\n",
    "      # update the global UAP for the minimal change and then project to controll the magnitude\n",
    "      _global_uap += _perturbation\n",
    "      _global_uap = np.clip(_global_uap,-30*step,30*step)\n",
    "      _global_uap = L2_projection(_global_uap, volume)\n",
    "      global_uap.load(_global_uap, sess)\n",
    "    # calc the new fooling rate \n",
    "    current_fooling = current_fooling / train_set.shape[0]\n",
    "\n",
    "  return _global_uap"
   ]
  },
  {
   "cell_type": "code",
   "execution_count": null,
   "metadata": {
    "id": "SXSwaUmhOF3m"
   },
   "outputs": [],
   "source": [
    "\n",
    "def tf_preprocess(x_adv):\n",
    "    aggN = 5\n",
    "    input_shape = (35,7)\n",
    "    num_classes = 2\n",
    "\n",
    "    ########### preprocess ########################\n",
    "    cSlices = int(np.floor(35/aggN))\n",
    "    slices = tf.stack([x_adv[i*aggN:i*aggN+aggN, 3] for i in range(cSlices)])\n",
    "    avg = tf.reduce_mean(slices, axis=1)\n",
    "    std = tf.keras.backend.std(slices, axis=1)\n",
    "\n",
    "    #compute the trend indicator\n",
    "    x = np.arange(1, aggN + 1, dtype = np.float32)\n",
    "    b1 = aggN*tf.reduce_sum(x*slices, axis=1)-tf.reduce_sum(x)*tf.reduce_sum(slices, axis=1)\n",
    "    trend = b1/(aggN*tf.reduce_sum(x**2) - tf.reduce_sum(x)**2)\n",
    "\n",
    "    #fix time vars\n",
    "    minute = tf.stack([x_adv[i*aggN+aggN-1, 5] for i in range(cSlices)])# minute\n",
    "    hour = tf.stack([x_adv[i*aggN+aggN-1, 6] for i in range(cSlices)])# hour\n",
    "    close = tf.stack([x_adv[i*aggN+aggN-1, 3] for i in range(cSlices)])# close\n",
    "\n",
    "    #tf pseudoLogReturn\n",
    "    avg_next = tf.concat([[0],tf.identity(avg)],axis=0)\n",
    "    avg = tf.concat([avg,[0]],axis=0)\n",
    "    logAVG = tf.log(avg/avg_next)[1:avg.shape[0]-1]\n",
    "    avg = avg[:avg.shape[0]-1]\n",
    "\n",
    "    #concat time vars\n",
    "    minute = tf.reshape(minute,[minute.shape[0],1])\n",
    "    hour = tf.reshape(hour, [hour.shape[0],1])\n",
    "    close = tf.reshape(close, [close.shape[0],1])\n",
    "    avg = tf.reshape(avg,[avg.shape[0],1])\n",
    "    X_time = tf.concat([minute,hour,close,avg],axis=1)\n",
    "\n",
    "    #concat procData\n",
    "    logAVG = tf.reshape(logAVG,[logAVG.shape[0],1])\n",
    "    std = std[1:]\n",
    "    trend = trend[1:]\n",
    "    std = tf.reshape(std, [std.shape[0],1])\n",
    "    trend = tf.reshape(trend, [trend.shape[0],1])\n",
    "    procData = tf.concat([logAVG,std,trend],axis=1)\n",
    "\n",
    "    #create data \n",
    "    proc_x = tf.stack([procData[i:i+lookBack,:] for i in range(procData.shape[0]-lookBack)])\n",
    "    proc_y = tf.stack([procData[i+lookBack,0] for i in range(procData.shape[0]-lookBack)])\n",
    "    proc_y = tf.convert_to_tensor(proc_y)\n",
    "    proc_y = tf.to_int32(tf.clip_by_value(tf.sign(proc_y), 0,1))\n",
    "    proc_y = tf.one_hot(proc_y,2)\n",
    "\n",
    "\n",
    "    X_lastN = tf.reshape(proc_x, [proc_x.shape[0],proc_x.shape[1]*proc_x.shape[2]])\n",
    "    X_time = X_time[lookBack:-1,:]\n",
    "    merged = tf.concat([X_lastN,X_time],axis=1)\n",
    "\n",
    "    sample_x = merged\n",
    "    return sample_x"
   ]
  },
  {
   "cell_type": "markdown",
   "metadata": {
    "id": "ILTEsK2FrEOi"
   },
   "source": [
    "# Full pipeline attack\n",
    "\n",
    "\n",
    "---\n",
    "The following are examples of how to run a full pipeline of our attack.\n",
    "Its important to note that the models and the preprocess can be replaced with other methods as long as they are implemented with tensorflow/keras, to obtain gradients of the input.\n",
    "\n"
   ]
  },
  {
   "cell_type": "markdown",
   "metadata": {
    "id": "m9mRkU37rwwz"
   },
   "source": [
    "White-Box example:\n",
    "- proces the data\n",
    "- create three alpha models\n",
    "- generate TUAP for each model \n",
    "- evaluate fooling rates"
   ]
  },
  {
   "cell_type": "code",
   "execution_count": 1,
   "metadata": {
    "collapsed": true,
    "id": "_78uvC40eXEE",
    "jupyter": {
     "outputs_hidden": true
    }
   },
   "outputs": [
    {
     "name": "stdout",
     "output_type": "stream",
     "text": [
      "Symbol: AON\n"
     ]
    },
    {
     "ename": "NameError",
     "evalue": "name 'readSymbolData' is not defined",
     "output_type": "error",
     "traceback": [
      "\u001b[1;31m---------------------------------------------------------------------------\u001b[0m",
      "\u001b[1;31mNameError\u001b[0m                                 Traceback (most recent call last)",
      "\u001b[1;32m<ipython-input-1-743df1178508>\u001b[0m in \u001b[0;36m<module>\u001b[1;34m()\u001b[0m\n\u001b[0;32m     13\u001b[0m   \u001b[0mevals\u001b[0m \u001b[1;33m=\u001b[0m \u001b[1;33m[\u001b[0m\u001b[1;33m]\u001b[0m\u001b[1;33m\u001b[0m\u001b[0m\n\u001b[0;32m     14\u001b[0m   \u001b[1;31m#preprocess\u001b[0m\u001b[1;33m\u001b[0m\u001b[1;33m\u001b[0m\u001b[0m\n\u001b[1;32m---> 15\u001b[1;33m   \u001b[0mX\u001b[0m \u001b[1;33m=\u001b[0m \u001b[0mreadSymbolData\u001b[0m\u001b[1;33m(\u001b[0m\u001b[0mSymbol\u001b[0m\u001b[1;33m)\u001b[0m\u001b[1;33m\u001b[0m\u001b[0m\n\u001b[0m\u001b[0;32m     16\u001b[0m   \u001b[0mX\u001b[0m \u001b[1;33m=\u001b[0m \u001b[0mparseTime\u001b[0m\u001b[1;33m(\u001b[0m\u001b[0mX\u001b[0m\u001b[1;33m)\u001b[0m\u001b[1;33m\u001b[0m\u001b[0m\n\u001b[0;32m     17\u001b[0m   \u001b[0mX\u001b[0m \u001b[1;33m=\u001b[0m \u001b[0mnp\u001b[0m\u001b[1;33m.\u001b[0m\u001b[0marray\u001b[0m\u001b[1;33m(\u001b[0m\u001b[0mX\u001b[0m\u001b[1;33m)\u001b[0m\u001b[1;33m\u001b[0m\u001b[0m\n",
      "\u001b[1;31mNameError\u001b[0m: name 'readSymbolData' is not defined"
     ]
    }
   ],
   "source": [
    "# view for white-box scenario\n",
    "\n",
    "stocks2run = ['AON'] # list of symbols to be tested \n",
    "aggParam = 5\n",
    "lookBack = 5\n",
    "nEpochs = 12\n",
    "sizes = []\n",
    "results = []\n",
    "for idx, Symbol in enumerate(stocks2run):\n",
    "  print('Symbol: '+Symbol)\n",
    "  sizes = []\n",
    "  models = []\n",
    "  evals = []\n",
    "  #preprocess \n",
    "  X = readSymbolData(Symbol)\n",
    "  X = parseTime(X)\n",
    "  X = np.array(X)\n",
    "  # preper the data for training:\n",
    "  X_train, y_train = get_train_data(X, aggParam, lookBack)\n",
    "  #save the session for later attack\n",
    "  sess = tf.Session()\n",
    "  keras.backend.set_session(sess)\n",
    "  lockSeed()\n",
    "  #build and train the model\n",
    "  nFeatures = (lookBack * 3) + 2\n",
    "  #creating the 3 models to attack then transfer \n",
    "  DNN_model, history = create_DNN_clf(X_train, y_train, nFeatures, nEpochs)\n",
    "  models.append(DNN_model)\n",
    "  CNN_model, history = create_1dCNN_clf(X_train, y_train, nFeatures, nEpochs)\n",
    "  models.append(CNN_model)\n",
    "  RNN_model, history = create_RNN_clf(X_train, y_train, nFeatures, nEpochs)\n",
    "  models.append(RNN_model)\n",
    "  print(\"train done\")\n",
    " \n",
    "  # create UAP for each model\n",
    "  UAPs = []\n",
    "  cData, test_UAP = getSamplesByDays(X, 'up')\n",
    "  target_label_down = getTarget('down')\n",
    "  target_label_up = getTarget('up')\n",
    "  for target in [target_label_down, target_label_up]:\n",
    "    UAPs.append(targeted_batch_UAP(cData, models[0],target, isSeries = 0))\n",
    "    UAPs.append(targeted_batch_UAP(cData, models[1],target, isSeries = 1))\n",
    "    UAPs.append(targeted_batch_UAP(cData, models[2],target, isSeries = 1))\n",
    "  sizes.append([relativeSize(cData,uap) for uap in UAPs])\n",
    "  base_mean_price = np.mean(cData[:,5:30,3],dtype=np.float32)\n",
    "  max_size = np.max(sizes[0])/100\n",
    "  print('perturb done')\n",
    "  # evaluate UAPs\n",
    "  tData = np.concatenate(test_UAP[:],axis=0)\n",
    "  scaling = np.mean(tData[:,5:30,3],dtype=np.float32)/base_mean_price\n",
    "  eval0, eval1, eval2 = [], [], []\n",
    "  i=0\n",
    "  _, _, model0_acc = eval_UAP(models[0], UAPs[0], tData, nFeatures)\n",
    "  _, _, model1_acc = eval_UAP(models[1], UAPs[0], tData, nFeatures-2)\n",
    "  _, _, model2_acc = eval_UAP(models[2], UAPs[0], tData, nFeatures-2)\n",
    "  for target in [target_label_down, target_label_up]:\n",
    "    acc_flips0, _, acc_mal_Target0 = eval_UAP_targeted(models[0], UAPs[0+i*3]*scaling, tData, target, aggParam, lookBack, nFeatures)\n",
    "    acc_flips1, _, acc_mal_Target1 = eval_UAP_targeted(models[1], UAPs[1+i*3]*scaling, tData, target, aggParam, lookBack, nFeatures-2)\n",
    "    acc_flips2, _, acc_mal_Target2 = eval_UAP_targeted(models[2], UAPs[2+i*3]*scaling, tData, target, aggParam, lookBack, nFeatures-2)\n",
    "    rnd_flips0, orig_acc0, rnd_mal_target0 = eval_rand_noise(models[0],tData,target,base_mean_price*max_size,nFeatures)\n",
    "    rnd_flips1, orig_acc1, rnd_mal_target1 = eval_rand_noise(models[1],tData,target,base_mean_price*max_size,nFeatures-2)\n",
    "    rnd_flips2, orig_acc2, rnd_mal_target2 = eval_rand_noise(models[2],tData,target,base_mean_price*max_size,nFeatures-2)\n",
    "    eval0.append([acc_mal_Target0, rnd_mal_target0, acc_flips0, rnd_flips0])\n",
    "    eval1.append([acc_mal_Target1, rnd_mal_target1, acc_flips1, rnd_flips1])\n",
    "    eval2.append([acc_mal_Target2, rnd_mal_target2, acc_flips2, rnd_flips2])\n",
    "    i+=1\n",
    "  results.append([Symbol, model0_acc, model1_acc, model2_acc])\n",
    "  results.append(sizes)\n",
    "  results.append([(eval0[0][i]+eval0[1][i])/2. for i in range(4)])\n",
    "  results.append([(eval1[0][i]+eval1[1][i])/2. for i in range(4)])\n",
    "  results.append([(eval2[0][i]+eval2[1][i])/2. for i in range(4)])"
   ]
  },
  {
   "cell_type": "markdown",
   "metadata": {},
   "source": [
    "Black-Box example:\n",
    "- proces the data\n",
    "- create three alpha models\n",
    "- generate TUAP for each model \n",
    "- evaluate each TUAP on the unseen models"
   ]
  },
  {
   "cell_type": "code",
   "execution_count": null,
   "metadata": {
    "colab": {
     "base_uri": "https://localhost:8080/",
     "height": 51
    },
    "id": "C-O1d-J7u1TJ",
    "outputId": "154d4baf-d855-4d72-f10a-fe5df58f6715"
   },
   "outputs": [
    {
     "name": "stdout",
     "output_type": "stream",
     "text": [
      "train done\n",
      "perturb done\n"
     ]
    }
   ],
   "source": [
    "# full run for black-box scenario\n",
    "\n",
    "stocks2run = ['AON' ]\n",
    "aggParam = 5\n",
    "lookBack = 5\n",
    "nEpochs = 12\n",
    "sizes = []\n",
    "results = []\n",
    "for idx, Symbol in enumerate(stocks2run):\n",
    "  models = []\n",
    "  evals = []\n",
    "  #preprocess \n",
    "  X = readSymbolData(Symbol)\n",
    "  X = parseTime(X)\n",
    "  X = np.array(X)\n",
    "  # np_agg&slice with shifted windows:\n",
    "  X_train, y_train = get_train_data(X,aggParam, lookBack)\n",
    "  #save the session for later attack\n",
    "  sess = tf.Session()\n",
    "  keras.backend.set_session(sess)\n",
    "  lockSeed()\n",
    "  #build and train the model\n",
    "  nFeatures = (lookBack * 3) + 2\n",
    "  # creating the 3 models to attack then transfer \n",
    "  DNN_model, history = create_DNN_clf(X_train, y_train, nFeatures, nEpochs)\n",
    "  models.append(DNN_model)\n",
    "  CNN_model, history = create_1dCNN_clf(X_train, y_train, nFeatures, nEpochs)\n",
    "  models.append(CNN_model)\n",
    "  RNN_model, history = create_RNN_clf(X_train, y_train, nFeatures, nEpochs)\n",
    "  models.append(RNN_model)\n",
    "  print(\"train done\")\n",
    "  # create perturbation for each model\n",
    "  UAPs = []\n",
    "  cData, test_UAP = getSamplesByDays(X, 'up')\n",
    "  target_label_down = getTarget('down')\n",
    "  target_label_up = getTarget('up')\n",
    "  for target in [target_label_down, target_label_up]:\n",
    "    UAPs.append(targeted_batch_UAP(cData, models[0],target, isSeries = 0))\n",
    "    UAPs.append(targeted_batch_UAP(cData, models[1],target, isSeries = 1))\n",
    "    UAPs.append(targeted_batch_UAP(cData, models[2],target, isSeries = 1))\n",
    "  sizes.append([relativeSize(cData,uap) for uap in UAPs])\n",
    "  base_mean_price = np.mean(cData[:,5:30,3],dtype=np.float32)\n",
    "  print('perturb done')\n",
    "  # evaluate transferability among models\n",
    "  tData = np.concatenate(test_UAP[:],axis=0)\n",
    "  for i in range(len(UAPs)):\n",
    "    eval0, eval1, eval2 = [], [], []\n",
    "    if i>2:\n",
    "      target = target_label_up\n",
    "    else: target = target_label_down\n",
    "    scaling = np.mean(tData[:,5:30,3],dtype=np.float32)/base_mean_price\n",
    "    accFlips0, acc_ben_Target0, acc_mal_Target0 = eval_UAP_targeted(models[0], UAPs[i]*scaling, tData, target, aggParam, lookBack, nFeatures)\n",
    "    accFlips1, acc_ben_Target1, acc_mal_Target1 = eval_UAP_targeted(models[1], UAPs[i]*scaling, tData, target, aggParam, lookBack, nFeatures-2)\n",
    "    accFlips2, acc_ben_Target2, acc_mal_Target2 = eval_UAP_targeted(models[2], UAPs[i]*scaling, tData, target, aggParam, lookBack, nFeatures-2)\n",
    "    eval0.append([accFlips0, acc_ben_Target0, acc_mal_Target0])\n",
    "    eval1.append([accFlips1, acc_ben_Target1, acc_mal_Target1])\n",
    "    eval2.append([accFlips2, acc_ben_Target2, acc_mal_Target2])\n",
    "    evals.append([eval0,eval1,eval2])\n",
    "  results.append(procResult(evals))\n",
    "\n"
   ]
  },
  {
   "cell_type": "markdown",
   "metadata": {
    "id": "h6BHTsbWM9xj"
   },
   "source": [
    "# Visualization"
   ]
  },
  {
   "cell_type": "markdown",
   "metadata": {},
   "source": [
    "visualizing the our TUAP "
   ]
  },
  {
   "cell_type": "code",
   "execution_count": null,
   "metadata": {
    "colab": {
     "base_uri": "https://localhost:8080/",
     "height": 312
    },
    "id": "8jrzN9-QsKNa",
    "outputId": "8e9a02b0-28a8-43ac-9c93-511fd13e78d6"
   },
   "outputs": [
    {
     "data": {
      "text/plain": [
       "<function matplotlib.pyplot.show>"
      ]
     },
     "execution_count": 31,
     "metadata": {
      "tags": []
     },
     "output_type": "execute_result"
    },
    {
     "data": {
      "image/png": "[encoded data removed]",
      "text/plain": [
       "<Figure size 432x288 with 1 Axes>"
      ]
     },
     "metadata": {
      "needs_background": "light",
      "tags": []
     },
     "output_type": "display_data"
    }
   ],
   "source": [
    "#visualisation for TUAP\n",
    "plt.plot([UAPs[0][i+5,3] for i in range(25)],'ro')\n",
    "plt.xlabel('Feature index')\n",
    "plt.ylabel('Absolut size')\n",
    "plt.title('Visualization of TUAP for increase')\n",
    "plt.show"
   ]
  },
  {
   "cell_type": "code",
   "execution_count": null,
   "metadata": {
    "colab": {
     "base_uri": "https://localhost:8080/",
     "height": 312
    },
    "id": "hsABr_MHsKP4",
    "outputId": "22b55599-44ff-4ebc-bf6b-4f75138b9220"
   },
   "outputs": [
    {
     "data": {
      "text/plain": [
       "<function matplotlib.pyplot.show>"
      ]
     },
     "execution_count": 32,
     "metadata": {
      "tags": []
     },
     "output_type": "execute_result"
    },
    {
     "data": {
      "image/png": "[encoded data removed]",
      "text/plain": [
       "<Figure size 432x288 with 1 Axes>"
      ]
     },
     "metadata": {
      "needs_background": "light",
      "tags": []
     },
     "output_type": "display_data"
    }
   ],
   "source": [
    "plt.plot([UAPs[1][i+5,3] for i in range(25)],'ro')\n",
    "plt.xlabel('Feature index')\n",
    "plt.ylabel('Absolut size')\n",
    "plt.title('Visualization of TUAP for decrease')\n",
    "plt.show"
   ]
  },
  {
   "cell_type": "code",
   "execution_count": null,
   "metadata": {
    "id": "4jdD0_c2NE-_"
   },
   "outputs": [],
   "source": [
    "# creating graphs based on our results:\n",
    "dnn_tfr = np.array([[99.3,97.9,97.3,96.1,79.7,88.4],[58.31,50.17,55.90,52.58,48.32,54.82],[51.5,52,53,49.9,48.4,56.4]])\n",
    "cnn_tfr = np.array([[99.4,97.3,96.6,96.8,78.4,85.6],[60.06,52.95,53.41,50.91,46.83,55.91],[54.60,47.7,53.7,50,48.9,55.5]])\n",
    "rnn_tfr = np.array([[99.1,97.6,96.8,96.4,80.7,89],[51.79,53.61,52.64,52.99,49.48,53.89],[52,45.8,51.3,48.2,49.7,57.3]])\n",
    "WB_models_eval_tfr = np.array([dnn_tfr,cnn_tfr,rnn_tfr],dtype=np.float32)\n",
    "\n",
    "dnn_ufr = np.array([[45,45.9,44.3,46.19,31.29,31.99],[22.05,22.96,15.11,13.83,6.63,6.8]])\n",
    "cnn_ufr = np.array([[44.79,49.59,42.89,46.89,29.9,30.29],[22.78,25.04,17.84,15.84,10.61,8.96]])\n",
    "rnn_ufr = np.array([[47.09,51.8,45.49,48.49,31.19,31.7],[26.12,24.89,15.88,16.49,7.98,10.17]])\n",
    "WB_models_eval_ufr = np.array([dnn_ufr,cnn_ufr,rnn_ufr],dtype=np.float32)"
   ]
  },
  {
   "cell_type": "markdown",
   "metadata": {},
   "source": [
    "comparing our results to random perturbation and the original data"
   ]
  },
  {
   "cell_type": "code",
   "execution_count": null,
   "metadata": {
    "colab": {
     "base_uri": "https://localhost:8080/",
     "height": 282
    },
    "id": "bVYNSXalM9zq",
    "outputId": "9f602143-4c32-47e2-fbc4-57fc29d1ec4e"
   },
   "outputs": [
    {
     "data": {
      "text/plain": [
       "<matplotlib.legend.Legend at 0x7faf53cb4198>"
      ]
     },
     "execution_count": 15,
     "metadata": {
      "tags": []
     },
     "output_type": "execute_result"
    },
    {
     "data": {
      "image/png": "[encoded data removed]",
      "text/plain": [
       "<Figure size 432x288 with 1 Axes>"
      ]
     },
     "metadata": {
      "needs_background": "light",
      "tags": []
     },
     "output_type": "display_data"
    }
   ],
   "source": [
    "for model_res in WB_models_eval_tfr:\n",
    "    for row in model_res:\n",
    "        plt.plot(row)\n",
    "plt.legend(['dnn_TUAP','dnn_rnd','dnn_orig','cnn_TUAP','cnn_rnd','cnn_orig','rnn_TUAP','rnn_rnd','rnn_orig'])"
   ]
  },
  {
   "cell_type": "code",
   "execution_count": null,
   "metadata": {
    "colab": {
     "base_uri": "https://localhost:8080/",
     "height": 282
    },
    "id": "wKViAPywv7MA",
    "outputId": "8439a7e7-b36a-416b-f43c-b4d5f5031eb3"
   },
   "outputs": [
    {
     "data": {
      "image/png": "[encoded data removed]",
      "text/plain": [
       "<Figure size 432x288 with 1 Axes>"
      ]
     },
     "metadata": {
      "needs_background": "light",
      "tags": []
     },
     "output_type": "display_data"
    }
   ],
   "source": [
    "# ploting each fig\n",
    "test_num = ['T1','T2','T3','T4','T5','T6']\n",
    "\n",
    "plt.plot(test_num, WB_models_eval_tfr[0,0,:], '-o')\n",
    "plt.plot(test_num, WB_models_eval_tfr[0,1,:], '-o')\n",
    "plt.plot(test_num, WB_models_eval_tfr[0,2,:], '-o')\n",
    "\n",
    "plt.legend(['TUAP','Random','Clean'], fontsize=12, bbox_to_anchor=(0.3,0.35), loc=\"lower right\")\n",
    "plt.xlabel('Test Set',fontsize=13)\n",
    "plt.ylabel('TFR',fontsize=13)\n",
    "\n",
    "\n",
    "plt.savefig('tfr-dnn',bbox_inches='tight')"
   ]
  },
  {
   "cell_type": "code",
   "execution_count": null,
   "metadata": {
    "colab": {
     "base_uri": "https://localhost:8080/",
     "height": 282
    },
    "id": "ggT56jGPzlez",
    "outputId": "5e071ed5-fe50-42c1-ff77-8e666165ccfc"
   },
   "outputs": [
    {
     "data": {
      "image/png": "[encoded data removed]",
      "text/plain": [
       "<Figure size 432x288 with 1 Axes>"
      ]
     },
     "metadata": {
      "needs_background": "light",
      "tags": []
     },
     "output_type": "display_data"
    }
   ],
   "source": [
    "# ploting each fig\n",
    "plt.plot(test_num, WB_models_eval_tfr[1,0,:], '-o')\n",
    "plt.plot(test_num, WB_models_eval_tfr[1,1,:], '-o')\n",
    "plt.plot(test_num, WB_models_eval_tfr[1,2,:], '-o')\n",
    "\n",
    "plt.legend(['TUAP','Random','Clean'], fontsize=12, bbox_to_anchor=(0.3,0.35), loc=\"lower right\")\n",
    "plt.xlabel('Test Set',fontsize=13)\n",
    "plt.ylabel('TFR',fontsize=13)\n",
    "\n",
    "\n",
    "plt.savefig('tfr-cnn',bbox_inches='tight')"
   ]
  },
  {
   "cell_type": "code",
   "execution_count": null,
   "metadata": {
    "colab": {
     "base_uri": "https://localhost:8080/",
     "height": 282
    },
    "id": "NrJvtiHNzqFD",
    "outputId": "2ee3149c-175d-4b51-cf86-fc9b2768a918"
   },
   "outputs": [
    {
     "data": {
      "image/png": "[encoded data removed]",
      "text/plain": [
       "<Figure size 432x288 with 1 Axes>"
      ]
     },
     "metadata": {
      "needs_background": "light",
      "tags": []
     },
     "output_type": "display_data"
    }
   ],
   "source": [
    "# ploting each fig\n",
    "plt.plot(test_num, WB_models_eval_tfr[2,0,:], '-o')\n",
    "plt.plot(test_num, WB_models_eval_tfr[2,1,:], '-o')\n",
    "plt.plot(test_num, WB_models_eval_tfr[2,2,:], '-o')\n",
    "\n",
    "plt.legend(['TUAP','Random','Clean'], fontsize=12, bbox_to_anchor=(0.3,0.35), loc=\"lower right\")\n",
    "plt.xlabel('Test Set',fontsize=13)\n",
    "plt.ylabel('TFR',fontsize=13)\n",
    "\n",
    "\n",
    "plt.savefig('tfr-rnn',bbox_inches='tight')"
   ]
  },
  {
   "cell_type": "code",
   "execution_count": null,
   "metadata": {
    "colab": {
     "base_uri": "https://localhost:8080/",
     "height": 275
    },
    "id": "At_Jw2LRNE52",
    "outputId": "abcd10cc-0f2e-455f-cff3-4b140aedf18b"
   },
   "outputs": [
    {
     "data": {
      "text/plain": [
       "[<matplotlib.lines.Line2D at 0x7faf540deda0>]"
      ]
     },
     "execution_count": 13,
     "metadata": {
      "tags": []
     },
     "output_type": "execute_result"
    },
    {
     "data": {
      "image/png": "[encoded data removed]",
      "text/plain": [
       "<Figure size 1440x360 with 3 Axes>"
      ]
     },
     "metadata": {
      "needs_background": "light",
      "tags": []
     },
     "output_type": "display_data"
    }
   ],
   "source": [
    "fig, (ax1, ax2, ax3) = plt.subplots(1, 3,figsize=(20,5))\n",
    "fig.suptitle('Horizontally stacked subplots')\n",
    "\n",
    "ax1.plot(WB_models_eval_tfr[0,0,:])\n",
    "ax1.plot(WB_models_eval_tfr[0,1,:])\n",
    "ax1.plot(WB_models_eval_tfr[0,2,:])\n",
    "\n",
    "ax2.plot(WB_models_eval_tfr[1,0,:])\n",
    "ax2.plot(WB_models_eval_tfr[1,1,:])\n",
    "ax2.plot(WB_models_eval_tfr[1,2,:])\n",
    "\n",
    "ax3.plot(WB_models_eval_tfr[2,0,:])\n",
    "ax3.plot(WB_models_eval_tfr[2,1,:])\n",
    "ax3.plot(WB_models_eval_tfr[2,2,:])\n"
   ]
  },
  {
   "cell_type": "code",
   "execution_count": null,
   "metadata": {
    "colab": {
     "base_uri": "https://localhost:8080/",
     "height": 286
    },
    "id": "MnJO5Xak2BiE",
    "outputId": "a7a46ec6-0b6f-4cde-bfd4-860c97ed4d76"
   },
   "outputs": [
    {
     "data": {
      "image/png": "[encoded data removed]",
      "text/plain": [
       "<Figure size 432x288 with 1 Axes>"
      ]
     },
     "metadata": {
      "needs_background": "light",
      "tags": []
     },
     "output_type": "display_data"
    }
   ],
   "source": [
    "# ploting each fig\n",
    "plt.plot(test_num, WB_models_eval_ufr[0,0,:], '-o')\n",
    "plt.plot(test_num, WB_models_eval_ufr[0,1,:], '-o')\n",
    "# plt.grid()\n",
    "plt.legend(['TUAP','Random','Orign'], fontsize=12)\n",
    "plt.xlabel('Test Set',fontsize=13)\n",
    "plt.ylabel('UFR',fontsize=13)\n",
    "plt.ylim([0,60])\n",
    "\n",
    "plt.savefig('ufr-dnn',bbox_inches='tight')"
   ]
  },
  {
   "cell_type": "code",
   "execution_count": null,
   "metadata": {
    "colab": {
     "base_uri": "https://localhost:8080/",
     "height": 286
    },
    "id": "SHCwJ8UD2XJO",
    "outputId": "376266be-17e7-41aa-de47-dcde911790f5"
   },
   "outputs": [
    {
     "data": {
      "image/png": "[encoded data removed]",
      "text/plain": [
       "<Figure size 432x288 with 1 Axes>"
      ]
     },
     "metadata": {
      "needs_background": "light",
      "tags": []
     },
     "output_type": "display_data"
    }
   ],
   "source": [
    "# ploting each fig\n",
    "plt.plot(test_num, WB_models_eval_ufr[1,0,:], '-o')\n",
    "plt.plot(test_num, WB_models_eval_ufr[1,1,:], '-o')\n",
    "\n",
    "plt.legend(['TUAP','Random','Orign'], fontsize=12)\n",
    "plt.xlabel('Test Set',fontsize=13)\n",
    "plt.ylabel('UFR',fontsize=13)\n",
    "plt.ylim([0,60])\n",
    "\n",
    "plt.savefig('ufr-cnn',bbox_inches='tight')"
   ]
  },
  {
   "cell_type": "code",
   "execution_count": null,
   "metadata": {
    "colab": {
     "base_uri": "https://localhost:8080/",
     "height": 286
    },
    "id": "KM-oMiJW2XBy",
    "outputId": "687e9dd5-7e2b-4d05-ef1d-ed5212b9cc90"
   },
   "outputs": [
    {
     "data": {
      "image/png": "[encoded data removed]",
      "text/plain": [
       "<Figure size 432x288 with 1 Axes>"
      ]
     },
     "metadata": {
      "needs_background": "light",
      "tags": []
     },
     "output_type": "display_data"
    }
   ],
   "source": [
    "# ploting each fig\n",
    "plt.plot(test_num, WB_models_eval_ufr[2,0,:], '-o')\n",
    "plt.plot(test_num, WB_models_eval_ufr[2,1,:], '-o')\n",
    "\n",
    "plt.legend(['TUAP','Random','Orign'], fontsize=12)\n",
    "plt.xlabel('Test Set',fontsize=13)\n",
    "plt.ylabel('UFR',fontsize=13)\n",
    "plt.ylim([0,60])\n",
    "\n",
    "plt.savefig('ufr-rnn',bbox_inches='tight')"
   ]
  },
  {
   "cell_type": "code",
   "execution_count": null,
   "metadata": {
    "colab": {
     "base_uri": "https://localhost:8080/",
     "height": 276
    },
    "id": "MhdslFdiNEyh",
    "outputId": "c58f9dac-6c7a-4605-f03f-722269c26db4"
   },
   "outputs": [
    {
     "data": {
      "text/plain": [
       "[<matplotlib.lines.Line2D at 0x7faf53b76b70>]"
      ]
     },
     "execution_count": 16,
     "metadata": {
      "tags": []
     },
     "output_type": "execute_result"
    },
    {
     "data": {
      "image/png": "[encoded data removed]",
      "text/plain": [
       "<Figure size 1440x360 with 3 Axes>"
      ]
     },
     "metadata": {
      "needs_background": "light",
      "tags": []
     },
     "output_type": "display_data"
    }
   ],
   "source": [
    "fig, (ax1, ax2, ax3) = plt.subplots(1, 3,figsize=(20,5))\n",
    "fig.suptitle('Horizontally stacked subplots')\n",
    "\n",
    "ax1.plot(WB_models_eval_ufr[0,0,:])\n",
    "ax1.plot(WB_models_eval_ufr[0,1,:])\n",
    "\n",
    "ax2.plot(WB_models_eval_ufr[1,0,:])\n",
    "ax2.plot(WB_models_eval_ufr[1,1,:])\n",
    "\n",
    "ax3.plot(WB_models_eval_ufr[2,0,:])\n",
    "ax3.plot(WB_models_eval_ufr[2,1,:])\n"
   ]
  },
  {
   "cell_type": "code",
   "execution_count": null,
   "metadata": {
    "colab": {
     "base_uri": "https://localhost:8080/",
     "height": 282
    },
    "id": "k7qvHWRVN3zg",
    "outputId": "55d0f69c-3e07-4acc-bb53-91f880c2a48c"
   },
   "outputs": [
    {
     "data": {
      "text/plain": [
       "<matplotlib.legend.Legend at 0x7faf53d10a58>"
      ]
     },
     "execution_count": 17,
     "metadata": {
      "tags": []
     },
     "output_type": "execute_result"
    },
    {
     "data": {
      "image/png": "[encoded data removed]",
      "text/plain": [
       "<Figure size 432x288 with 1 Axes>"
      ]
     },
     "metadata": {
      "needs_background": "light",
      "tags": []
     },
     "output_type": "display_data"
    }
   ],
   "source": [
    "for model_res in WB_models_eval_ufr:\n",
    "    for row in model_res:\n",
    "        plt.plot(row)\n",
    "plt.legend(['dnn_TUAP','dnn_rnd','cnn_TUAP','cnn_rnd','rnn_TUAP','rnn_rnd'])"
   ]
  },
  {
   "cell_type": "markdown",
   "metadata": {},
   "source": [
    "transferability results on IBM and AAPL symbols"
   ]
  },
  {
   "cell_type": "code",
   "execution_count": null,
   "metadata": {
    "colab": {
     "base_uri": "https://localhost:8080/",
     "height": 268
    },
    "id": "Xw1d13GSOGHQ",
    "outputId": "27ecab01-4dbf-4415-ff41-503972693272"
   },
   "outputs": [
    {
     "data": {
      "image/png": "[encoded data removed]",
      "text/plain": [
       "<Figure size 432x288 with 2 Axes>"
      ]
     },
     "metadata": {
      "tags": []
     },
     "output_type": "display_data"
    }
   ],
   "source": [
    "import seaborn as sns; sns.set_theme()\n",
    "# results from our experiments\n",
    "trans_data_IBM = np.array([[94.37,95.04,95],[94.45,95.33,94.75],[94.25,95,94.83]], dtype=np.float16)\n",
    "trans_data_AAPL = np.array([[93.87,93.7,93.66],[93.16,93.91,93.45],[93.95,94.62,93.95]])\n",
    "\n",
    "ax = sns.heatmap(trans_data_IBM, annot=True)\n"
   ]
  },
  {
   "cell_type": "code",
   "execution_count": null,
   "metadata": {
    "colab": {
     "base_uri": "https://localhost:8080/",
     "height": 269
    },
    "id": "xIgenhozyW0h",
    "outputId": "e71d7fd8-5cd7-4035-bb88-751cebcdd12d"
   },
   "outputs": [
    {
     "data": {
      "image/png": "[encoded data removed]",
      "text/plain": [
       "<Figure size 432x288 with 2 Axes>"
      ]
     },
     "metadata": {
      "tags": []
     },
     "output_type": "display_data"
    }
   ],
   "source": [
    "\n",
    "ax = sns.heatmap(trans_data_AAPL, annot=True)"
   ]
  },
  {
   "cell_type": "code",
   "execution_count": null,
   "metadata": {
    "colab": {
     "base_uri": "https://localhost:8080/",
     "height": 286
    },
    "id": "0Ctu4jUD2pMN",
    "outputId": "fdbd233e-e755-4ca8-ab5c-bc17e3d464c0"
   },
   "outputs": [
    {
     "data": {
      "image/png": "[encoded data removed]",
      "text/plain": [
       "<Figure size 432x288 with 1 Axes>"
      ]
     },
     "metadata": {
      "needs_background": "light",
      "tags": []
     },
     "output_type": "display_data"
    }
   ],
   "source": [
    "# visualization for adv retraining:\n",
    "adv_retraining = [[69.75,65.66,67.58,61.66,55],[94.37,93.995,88.165,76.165,71.33]]\n",
    "adv_portion = ['0','0.1','0.2','0.3','0.4']\n",
    "plt.plot(adv_portion, adv_retraining[0], '-o')\n",
    "plt.plot(adv_portion, adv_retraining[1], '-o')\n",
    "\n",
    "plt.legend(['DA','TFR_adv'], fontsize=12)\n",
    "plt.xlabel('Adversarial Portion',fontsize=13)\n",
    "# plt.ylabel('',fontsize=13)\n",
    "plt.ylim([50,100])\n",
    "\n",
    "plt.savefig('adv_retrain',bbox_inches='tight')"
   ]
  },
  {
   "cell_type": "code",
   "execution_count": null,
   "metadata": {
    "id": "oBz2JsFe2pHs"
   },
   "outputs": [],
   "source": []
  },
  {
   "cell_type": "markdown",
   "metadata": {
    "id": "Pvc9u97FPd9J"
   },
   "source": [
    "# Mitigation\n",
    "\n",
    "___\n",
    "\n",
    "Implementation and evaluation of two mitigation solutions:\n",
    "- adversarial retraining\n",
    "- detection of adversarial examples"
   ]
  },
  {
   "cell_type": "code",
   "execution_count": null,
   "metadata": {
    "id": "1f4NvB1LXNJY"
   },
   "outputs": [],
   "source": [
    "from sklearn.utils import shuffle\n",
    "\n",
    "#helper functions for our mitigation solutions\n",
    "\n",
    "# preper data with portion of adv samples\n",
    "def getSamples_unlimited(X, nSamples_per_day):\n",
    "    days_samples = []\n",
    "    days_data = splitByDays(X[:np.int(X.shape[0]*0.7),:])\n",
    "    for day in days_data:\n",
    "        day_samples = sampleUniform(day,nSamples_per_day)\n",
    "        days_samples.append(day_samples)\n",
    "    return np.array(days_samples)\n",
    "\n",
    "def get_adv_samples(days_samples, UAP, aggParam, lookBack):\n",
    "    UAP = fitUAP(UAP, days_samples[0])\n",
    "    X_adv, y_real = prep(days_samples, UAP,aggParam, lookBack)\n",
    "    return X_adv, y_real\n",
    "\n",
    "def get_portion(x,y,amount):\n",
    "    indexs = np.random.random_integers(0,x.shape[0]-1,amount)\n",
    "    return x.take(indexs, axis=0), y.take(indexs, axis=0)\n",
    "\n",
    "def get_mixed_adv_by_portion(clean_x,clean_y, adv_x_up, adv_y_up, adv_x_down, adv_y_down, adv_portion = 0):\n",
    "    if adv_portion == 0:\n",
    "        return clean_x,clean_y\n",
    "    data_len = clean_x.shape[0]\n",
    "    clean_amount = int(data_len * (1 - adv_portion))\n",
    "    adv_amount = (data_len - clean_amount)//2\n",
    "    clean_x_part, clean_y_part = get_portion(clean_x,clean_y, clean_amount)\n",
    "    adv_x_part_up, adv_y_part_up = get_portion(adv_x_up, adv_y_up, adv_amount)\n",
    "    adv_x_part_down, adv_y_part_down = get_portion(adv_x_down, adv_y_down, adv_amount)\n",
    "    x_mixed = np.concatenate([clean_x_part, adv_x_part_up,adv_x_part_down])\n",
    "    y_mixed = np.concatenate([clean_y_part, adv_y_part_up,adv_y_part_down])\n",
    "    x_mixed,y_mixed = shuffle(x_mixed, y_mixed)\n",
    "    return x_mixed, y_mixed\n",
    "\n",
    "def getSamples_test(X, nSamples_per_day):\n",
    "    days_data = splitByDays(X[np.int(X.shape[0]*0.7):,:])\n",
    "    test_UAP = []\n",
    "    for i in range(6):\n",
    "        test_UAP.append(np.concatenate([sampleUniform(days_data[i*5+3+j],nSamples_per_day) for j in range(5)],axis=0))\n",
    "    return test_UAP\n"
   ]
  },
  {
   "cell_type": "code",
   "execution_count": null,
   "metadata": {
    "colab": {
     "base_uri": "https://localhost:8080/"
    },
    "id": "em4u0r-rPdPq",
    "outputId": "b6ba5881-059e-43b3-e9c3-22160d15d2f5"
   },
   "outputs": [
    {
     "name": "stdout",
     "output_type": "stream",
     "text": [
      "Symbol: AAPL\n",
      "WARNING:tensorflow:From /tensorflow-1.15.2/python3.6/tensorflow_core/python/ops/resource_variable_ops.py:1630: calling BaseResourceVariable.__init__ (from tensorflow.python.ops.resource_variable_ops) with constraint is deprecated and will be removed in a future version.\n",
      "Instructions for updating:\n",
      "If using Keras pass *_constraint arguments to layers.\n",
      "WARNING:tensorflow:From /tensorflow-1.15.2/python3.6/tensorflow_core/python/ops/math_grad.py:1424: where (from tensorflow.python.ops.array_ops) is deprecated and will be removed in a future version.\n",
      "Instructions for updating:\n",
      "Use tf.where in 2.0, which has the same broadcast rule as np.where\n",
      "WARNING:tensorflow:From /tensorflow-1.15.2/python3.6/keras/backend/tensorflow_backend.py:422: The name tf.global_variables is deprecated. Please use tf.compat.v1.global_variables instead.\n",
      "\n",
      "train done\n"
     ]
    },
    {
     "name": "stderr",
     "output_type": "stream",
     "text": [
      "/usr/local/lib/python3.6/dist-packages/ipykernel_launcher.py:24: VisibleDeprecationWarning: Creating an ndarray from ragged nested sequences (which is a list-or-tuple of lists-or-tuples-or ndarrays with different lengths or shapes) is deprecated. If you meant to do this, you must specify 'dtype=object' when creating the ndarray\n"
     ]
    },
    {
     "name": "stdout",
     "output_type": "stream",
     "text": [
      "WARNING:tensorflow:From <ipython-input-9-f8bac50a4216>:48: to_int32 (from tensorflow.python.ops.math_ops) is deprecated and will be removed in a future version.\n",
      "Instructions for updating:\n",
      "Use `tf.cast` instead.\n",
      "WARNING:tensorflow:From /tensorflow-1.15.2/python3.6/tensorflow_core/python/util/tf_should_use.py:198: initialize_variables (from tensorflow.python.ops.variables) is deprecated and will be removed after 2017-03-02.\n",
      "Instructions for updating:\n",
      "Use `tf.variables_initializer` instead.\n",
      "WARNING:tensorflow:From <ipython-input-8-3489e2b68746>:74: Variable.load (from tensorflow.python.ops.variables) is deprecated and will be removed in a future version.\n",
      "Instructions for updating:\n",
      "Prefer Variable.assign which has equivalent behavior in 2.X.\n",
      "perturb done\n",
      "WARNING:tensorflow:From /tensorflow-1.15.2/python3.6/keras/backend/tensorflow_backend.py:431: The name tf.is_variable_initialized is deprecated. Please use tf.compat.v1.is_variable_initialized instead.\n",
      "\n"
     ]
    }
   ],
   "source": [
    "# adv retraining pipeline\n",
    "# view for white-box scenario\n",
    "\n",
    "stocks2run = ['AAPL'] # list of symbols to be tested \n",
    "aggParam = 5\n",
    "lookBack = 5\n",
    "nEpochs = 12\n",
    "sizes = []\n",
    "results = []\n",
    "for idx, Symbol in enumerate(stocks2run):\n",
    "  print('Symbol: '+Symbol)\n",
    "  sizes = []\n",
    "  models = []\n",
    "  evals = []\n",
    "  #preprocess \n",
    "  X = readSymbolData(Symbol)\n",
    "  X = parseTime(X)\n",
    "  X = np.array(X)\n",
    "  # preper the data for training:\n",
    "  X_train, y_train = get_train_data(X, aggParam, lookBack)\n",
    "  #save the session for later attack\n",
    "  sess = tf.Session()\n",
    "  keras.backend.set_session(sess)\n",
    "  lockSeed()\n",
    "  #build and train the model\n",
    "  nFeatures = (lookBack * 3) + 2\n",
    "  #creating the 3 models to attack then transfer \n",
    "  DNN_model, history = create_DNN_clf(X_train, y_train, nFeatures, nEpochs)\n",
    "  train_acc = history.history['accuracy'][-1]\n",
    "  val_acc = history.history['val_accuracy'][-1]\n",
    "\n",
    "  print(\"train done\")\n",
    " \n",
    "  # create UAP for each model\n",
    "  UAPs = []\n",
    "  cData, test_UAP = getSamplesByDays(X, 'up')\n",
    "  target_label_down = getTarget('down')\n",
    "  target_label_up = getTarget('up')\n",
    "  for target in [target_label_down, target_label_up]:\n",
    "    UAPs.append(targeted_batch_UAP(cData, DNN_model,target, isSeries = 0))\n",
    "\n",
    "  sizes.append([relativeSize(cData,uap) for uap in UAPs])\n",
    "  base_mean_price = np.mean(cData[:,5:30,3],dtype=np.float32)\n",
    "  max_size = np.max(sizes[0])/100\n",
    "  print('perturb done')\n",
    "  # evaluate UAPs\n",
    "  tData = np.concatenate(test_UAP[:],axis=0)\n",
    "  scaling = np.mean(tData[:,5:30,3],dtype=np.float32)/base_mean_price\n",
    "  eval0 = []\n",
    "\n",
    "  # _, _, model0_acc = eval_UAP(DNN_model, UAPs[0], tData, nFeatures)\n",
    "  evals.append([train_acc, val_acc])\n",
    "\n",
    "  for i in np.arange(6):\n",
    "    _, _, TFR_down = eval_UAP_targeted(DNN_model, UAPs[0]*scaling, test_UAP[i], target_label_down, aggParam, lookBack, nFeatures)\n",
    "    _, _, TFR_up = eval_UAP_targeted(DNN_model, UAPs[1]*scaling, test_UAP[i], target_label_up, aggParam, lookBack, nFeatures)  \n",
    "    eval0.append((TFR_down+TFR_up)/2.)\n"
   ]
  },
  {
   "cell_type": "code",
   "execution_count": null,
   "metadata": {
    "colab": {
     "base_uri": "https://localhost:8080/"
    },
    "id": "xmZ2_807kmTG",
    "outputId": "30eb4bbf-c39e-4c87-a874-eae5a5c2bbf5"
   },
   "outputs": [
    {
     "name": "stderr",
     "output_type": "stream",
     "text": [
      "/usr/local/lib/python3.6/dist-packages/ipykernel_launcher.py:24: VisibleDeprecationWarning: Creating an ndarray from ragged nested sequences (which is a list-or-tuple of lists-or-tuples-or ndarrays with different lengths or shapes) is deprecated. If you meant to do this, you must specify 'dtype=object' when creating the ndarray\n"
     ]
    },
    {
     "name": "stdout",
     "output_type": "stream",
     "text": [
      "done 0.1\n",
      "done 0.2\n",
      "done 0.3\n",
      "done 0.4\n"
     ]
    }
   ],
   "source": [
    "# phase 2 - train robust model with adv learning\n",
    "# prep adv data\n",
    "days_samples = getSamples_unlimited(X, 60)\n",
    "days_samples = days_samples.reshape((days_samples.shape[0]*days_samples.shape[1],days_samples.shape[2],days_samples.shape[3]))\n",
    "adv_samples_up, y_real_up = get_adv_samples(days_samples, UAPs[0], 5,5)\n",
    "adv_samples_down, y_real_down = get_adv_samples(days_samples, UAPs[1], 5,5)\n",
    "\n",
    "for portion in [0.1,0.2,0.3,0.4]:\n",
    "    mixed_adv_train_x, mixed_adv_train_y  = get_mixed_adv_by_portion(X_train,y_train,\n",
    "                                                                 adv_samples_up, y_real_up,\n",
    "                                                                 adv_samples_down, y_real_down,\n",
    "                                                                 adv_portion=portion)\n",
    "    # build new model\n",
    "    DNN_model, history = create_DNN_clf(mixed_adv_train_x, mixed_adv_train_y, nFeatures, nEpochs)\n",
    "    # eval model\n",
    "    _, _, model_adv = eval_UAP(DNN_model, UAPs[0], tData, nFeatures)\n",
    "    train_acc = history.history['accuracy'][-1]\n",
    "    val_acc = history.history['val_accuracy'][-1]\n",
    "    evals.append([train_acc,val_acc])\n",
    "    for i in np.arange(6):\n",
    "        _, _, TFR_down = eval_UAP_targeted(DNN_model, UAPs[0]*scaling, test_UAP[i], target_label_down, aggParam, lookBack, nFeatures)\n",
    "        _, _, TFR_up = eval_UAP_targeted(DNN_model, UAPs[1]*scaling, test_UAP[i], target_label_up, aggParam, lookBack, nFeatures)  \n",
    "        eval0.append((TFR_down+TFR_up)/2.)\n",
    "    print('done {}'.format(portion))"
   ]
  },
  {
   "cell_type": "code",
   "execution_count": null,
   "metadata": {
    "colab": {
     "base_uri": "https://localhost:8080/",
     "height": 282
    },
    "id": "o2wOBQFesLUB",
    "outputId": "86ac1ba9-f56d-4bb2-8473-efd6aec3d160"
   },
   "outputs": [
    {
     "data": {
      "image/png": "[encoded data removed]",
      "text/plain": [
       "<Figure size 432x288 with 1 Axes>"
      ]
     },
     "metadata": {
      "needs_background": "light",
      "tags": []
     },
     "output_type": "display_data"
    }
   ],
   "source": [
    "# plot retrain DA\n",
    "ev_train = [evals[i][0]*100 for i in np.arange(0,5)]\n",
    "ev_test = [evals[i][1]*100 for i in np.arange(0,5)]\n",
    "portions = ['0%','10%','20%', '30%','40%']\n",
    "\n",
    "plt.plot(portions, ev_train, '-o')\n",
    "plt.plot(portions, ev_test, '-o')\n",
    "\n",
    "plt.legend(['Training set','Test set'], fontsize=12, )\n",
    "plt.xlabel('Adversarial Portion',fontsize=13)\n",
    "plt.ylabel('Directional Accuracy',fontsize=13)\n",
    "plt.ylim([50,105])\n",
    "\n",
    "\n",
    "plt.savefig('adv_train-da',bbox_inches='tight')"
   ]
  },
  {
   "cell_type": "code",
   "execution_count": null,
   "metadata": {
    "id": "ofPB_bGpZY4f"
   },
   "outputs": [],
   "source": [
    "ev1 = [eval0[i*6]*100 for i in np.arange(5)]\n",
    "ev2 = [eval0[1+i*6]*100 for i in np.arange(5)]\n",
    "ev3 = [eval0[2+i*6]*100 for i in np.arange(5)]\n",
    "ev4 = [eval0[3+i*6]*100 for i in np.arange(5)]\n",
    "ev5 = [eval0[4+i*6]*100 for i in np.arange(5)]\n",
    "ev6 = [eval0[5+i*6]*100 for i in np.arange(5)]"
   ]
  },
  {
   "cell_type": "code",
   "execution_count": null,
   "metadata": {
    "colab": {
     "base_uri": "https://localhost:8080/",
     "height": 282
    },
    "id": "b4gRImapTyyS",
    "outputId": "854cf9db-54bf-4012-a2da-bff8be2443a9"
   },
   "outputs": [
    {
     "data": {
      "image/png": "[encoded data removed]",
      "text/plain": [
       "<Figure size 432x288 with 1 Axes>"
      ]
     },
     "metadata": {
      "needs_background": "light",
      "tags": []
     },
     "output_type": "display_data"
    }
   ],
   "source": [
    "\n",
    "\n",
    "portions = ['0%','10%','20%', '30%','40%']\n",
    "\n",
    "plt.plot(portions, ev1, '-o')\n",
    "plt.plot(portions, ev2, '-o')\n",
    "plt.plot(portions, ev3, '-o')\n",
    "plt.plot(portions, ev4, '-o')\n",
    "plt.plot(portions, ev5, '-o')\n",
    "plt.plot(portions, ev6, '-o')\n",
    "\n",
    "plt.legend(['T1','T2','T3','T4','T5','T6'], fontsize=12, bbox_to_anchor=(0.2,0.0), loc=\"lower right\")\n",
    "plt.xlabel('Adversarial Portion',fontsize=13)\n",
    "plt.ylabel('TFR',fontsize=13)\n",
    "plt.ylim([50,105])\n",
    "\n",
    "\n",
    "plt.savefig('adv_train-tfr',bbox_inches='tight')\n"
   ]
  },
  {
   "cell_type": "code",
   "execution_count": null,
   "metadata": {
    "colab": {
     "base_uri": "https://localhost:8080/"
    },
    "id": "YbzyMWVIguOm",
    "outputId": "aa28ae64-1fcd-4910-ed2a-e3c86eb82d8e"
   },
   "outputs": [
    {
     "name": "stdout",
     "output_type": "stream",
     "text": [
      "Symbol: AAPL\n",
      "train done\n"
     ]
    },
    {
     "name": "stderr",
     "output_type": "stream",
     "text": [
      "/usr/local/lib/python3.6/dist-packages/ipykernel_launcher.py:24: VisibleDeprecationWarning: Creating an ndarray from ragged nested sequences (which is a list-or-tuple of lists-or-tuples-or ndarrays with different lengths or shapes) is deprecated. If you meant to do this, you must specify 'dtype=object' when creating the ndarray\n"
     ]
    }
   ],
   "source": [
    "# detection of adv samples with an external detector \n",
    "# first we will try to cach anomalies after the preprocess\n",
    "\n",
    "stocks2run = ['AAPL'] # list of symbols to be tested \n",
    "aggParam = 5\n",
    "lookBack = 5\n",
    "nEpochs = 12\n",
    "sizes = []\n",
    "results = []\n",
    "for idx, Symbol in enumerate(stocks2run):\n",
    "    print('Symbol: '+Symbol)\n",
    "    sizes = []\n",
    "    models = []\n",
    "    evals = []\n",
    "    #preprocess \n",
    "    X = readSymbolData(Symbol)\n",
    "    X = parseTime(X)\n",
    "    X = np.array(X)\n",
    "    # preper the data for training:\n",
    "    X_train, y_train = get_train_data(X, aggParam, lookBack)\n",
    "    #save the session for later attack\n",
    "    sess = tf.Session()\n",
    "    keras.backend.set_session(sess)\n",
    "    lockSeed()\n",
    "    #build and train the model\n",
    "    nFeatures = (lookBack * 3) + 2\n",
    "    #creating the 3 models to attack then transfer \n",
    "    DNN_model, history = create_DNN_clf(X_train, y_train, nFeatures, nEpochs)\n",
    "    models.append(DNN_model)\n",
    "\n",
    "    print(\"train done\")\n",
    "\n",
    "    # create UAP for each model\n",
    "    UAPs = []\n",
    "    cData, test_UAP = getSamplesByDays(X, 'up')\n",
    "    target_label_down = getTarget('down')\n",
    "    target_label_up = getTarget('up')\n",
    "    for target in [target_label_down, target_label_up]:\n",
    "        UAPs.append(targeted_batch_UAP(cData, models[0],target, isSeries = 0))\n"
   ]
  },
  {
   "cell_type": "code",
   "execution_count": null,
   "metadata": {
    "id": "LF4Uy1NiELaw"
   },
   "outputs": [],
   "source": [
    "def get_anomalous_data(x_ben, x_adv_up, x_adv_down, portion, total_nSamples):\n",
    "    clean_amount = int(total_nSamples * (1 - portion))\n",
    "    adv_amount = (total_nSamples - clean_amount)//2\n",
    "    y_ben = np.zeros((x_ben.shape[0]))\n",
    "    y_adv = np.ones((x_adv_up.shape[0]))\n",
    "    x_ben_part, y_ben_part = get_portion(x_ben,y_ben, clean_amount)\n",
    "    adv_x_part_up, adv_y_part_up = get_portion(x_adv_up, y_adv, adv_amount)\n",
    "    adv_x_part_down, adv_y_part_down = get_portion(x_adv_down, y_adv, adv_amount)\n",
    "    return np.concatenate([x_ben_part, adv_x_part_up,adv_x_part_down]), np.concatenate([y_ben_part, adv_y_part_up,adv_y_part_down])\n"
   ]
  },
  {
   "cell_type": "code",
   "execution_count": null,
   "metadata": {
    "colab": {
     "base_uri": "https://localhost:8080/"
    },
    "id": "OiUxmiji2Nyy",
    "outputId": "2c89dce2-64f0-40f9-fb2c-3bdceb099082"
   },
   "outputs": [
    {
     "name": "stderr",
     "output_type": "stream",
     "text": [
      "/usr/local/lib/python3.6/dist-packages/ipykernel_launcher.py:24: VisibleDeprecationWarning: Creating an ndarray from ragged nested sequences (which is a list-or-tuple of lists-or-tuples-or ndarrays with different lengths or shapes) is deprecated. If you meant to do this, you must specify 'dtype=object' when creating the ndarray\n"
     ]
    }
   ],
   "source": [
    "total_nSamples = 20000\n",
    "portion =  0.1\n",
    "\n",
    "# prep train data\n",
    "days_samples = getSamples_unlimited(X, 60)\n",
    "days_samples = days_samples.reshape((days_samples.shape[0]*days_samples.shape[1],days_samples.shape[2],days_samples.shape[3]))\n",
    "adv_samples_up, y_real_up = get_adv_samples(days_samples, UAPs[0], 5,5)\n",
    "adv_samples_down, y_real_down = get_adv_samples(days_samples, UAPs[1], 5,5)\n",
    "\n",
    "x_anomalous, y_anomalous = get_anomalous_data(X_train, adv_samples_up,\n",
    "                                              adv_samples_down, portion, total_nSamples)"
   ]
  },
  {
   "cell_type": "code",
   "execution_count": null,
   "metadata": {
    "colab": {
     "base_uri": "https://localhost:8080/"
    },
    "id": "j0hyp4eV-8Mc",
    "outputId": "4b8f1bcd-cdd3-4451-fe21-346fe131c7a7"
   },
   "outputs": [
    {
     "name": "stderr",
     "output_type": "stream",
     "text": [
      "/usr/local/lib/python3.6/dist-packages/ipykernel_launcher.py:24: VisibleDeprecationWarning: Creating an ndarray from ragged nested sequences (which is a list-or-tuple of lists-or-tuples-or ndarrays with different lengths or shapes) is deprecated. If you meant to do this, you must specify 'dtype=object' when creating the ndarray\n"
     ]
    }
   ],
   "source": [
    "# prep test data \n",
    "test_anomalous = []\n",
    "ben_test = getSamples_test(X, 720) # to get 0.1 precent of adv \n",
    "for i in np.arange(6):\n",
    "    adv_samples_up, _ = get_adv_samples(test_UAP[i], UAPs[0], 5,5)\n",
    "    adv_samples_down, _ = get_adv_samples(test_UAP[i], UAPs[1], 5,5)\n",
    "    ben_samples,_ = get_adv_samples(ben_test[i], UAPs[0]*0, 5,5)\n",
    "    x_anomalous_test = np.concatenate([adv_samples_up,adv_samples_down,ben_samples],axis=0)\n",
    "    y_anomalous_test = np.zeros((x_anomalous_test.shape[0]))\n",
    "    y_anomalous_test[0:adv_samples_down.shape[0]*2] = 1\n",
    "    test_anomalous.append([x_anomalous_test,y_anomalous_test])\n",
    "\n",
    "\n"
   ]
  },
  {
   "cell_type": "code",
   "execution_count": null,
   "metadata": {
    "colab": {
     "base_uri": "https://localhost:8080/"
    },
    "id": "NHza60GwMU_y",
    "outputId": "8b8d7330-bde7-43f8-b67f-43787686f96d"
   },
   "outputs": [
    {
     "data": {
      "text/plain": [
       "KNeighborsClassifier(algorithm='auto', leaf_size=30, metric='minkowski',\n",
       "                     metric_params=None, n_jobs=None, n_neighbors=5, p=2,\n",
       "                     weights='uniform')"
      ]
     },
     "execution_count": 46,
     "metadata": {
      "tags": []
     },
     "output_type": "execute_result"
    }
   ],
   "source": [
    "from sklearn.neighbors import KNeighborsClassifier\n",
    "\n",
    "knn = KNeighborsClassifier(n_neighbors=5)\n",
    "knn.fit(x_anomalous[:,:nFeatures], y_anomalous)\n"
   ]
  },
  {
   "cell_type": "code",
   "execution_count": null,
   "metadata": {
    "id": "JE4Sb0JeJt3K"
   },
   "outputs": [],
   "source": [
    "# test the detector for anomalous data t1-t6:\n",
    "results = []\n",
    "\n",
    "for i in np.arange(6):\n",
    "    preds = knn.predict(test_anomalous[i][0][:,:17])\n",
    "    cm = confusion_matrix(test_anomalous[i][1],preds)\n",
    "    results.append(cm)"
   ]
  },
  {
   "cell_type": "code",
   "execution_count": null,
   "metadata": {
    "id": "BrjTU2iA8bkd"
   },
   "outputs": [],
   "source": [
    "# test the detector for anomalous data t1-t6:\n",
    "\n",
    "for i in np.arange(6):\n",
    "    preds = clf.predict(test_anomalous[i][0][:,:17])\n",
    "    cm = confusion_matrix(test_anomalous[i][1],preds)\n",
    "    results.append(cm)"
   ]
  },
  {
   "cell_type": "code",
   "execution_count": null,
   "metadata": {
    "colab": {
     "base_uri": "https://localhost:8080/",
     "height": 279
    },
    "id": "q72WGuMtToKx",
    "outputId": "ba2a4704-157f-465d-b6f2-d6de487706be"
   },
   "outputs": [
    {
     "data": {
      "image/png": "[encoded data removed]",
      "text/plain": [
       "<Figure size 432x288 with 2 Axes>"
      ]
     },
     "metadata": {
      "needs_background": "light",
      "tags": []
     },
     "output_type": "display_data"
    }
   ],
   "source": [
    "from sklearn.metrics import  plot_confusion_matrix\n",
    "\n",
    "plot_confusion_matrix(knn, test_anomalous[i][0][:,:17], test_anomalous[i][1], normalize='all')  \n",
    "\n",
    "i+=1"
   ]
  },
  {
   "cell_type": "code",
   "execution_count": null,
   "metadata": {
    "colab": {
     "base_uri": "https://localhost:8080/"
    },
    "collapsed": true,
    "id": "0hp9mJo9M0Yo",
    "jupyter": {
     "outputs_hidden": true
    },
    "outputId": "cd7253cc-67c9-4e63-ec26-4a10e26b473c",
    "tags": []
   },
   "outputs": [
    {
     "name": "stdout",
     "output_type": "stream",
     "text": [
      "Epoch 1/12\n",
      "20000/20000 [==============================] - 1s 68us/step - loss: 0.4131 - accuracy: 0.8671\n",
      "Epoch 2/12\n",
      "20000/20000 [==============================] - 1s 56us/step - loss: 0.3245 - accuracy: 0.9000\n",
      "Epoch 3/12\n",
      "20000/20000 [==============================] - 1s 54us/step - loss: 0.2707 - accuracy: 0.8977\n",
      "Epoch 4/12\n",
      "20000/20000 [==============================] - 1s 53us/step - loss: 0.2057 - accuracy: 0.9068\n",
      "Epoch 5/12\n",
      "20000/20000 [==============================] - 1s 55us/step - loss: 0.1751 - accuracy: 0.9233\n",
      "Epoch 6/12\n",
      "20000/20000 [==============================] - 1s 53us/step - loss: 0.1581 - accuracy: 0.9326\n",
      "Epoch 7/12\n",
      "20000/20000 [==============================] - 1s 52us/step - loss: 0.1544 - accuracy: 0.9341\n",
      "Epoch 8/12\n",
      "20000/20000 [==============================] - 1s 53us/step - loss: 0.1502 - accuracy: 0.9360\n",
      "Epoch 9/12\n",
      "20000/20000 [==============================] - 1s 53us/step - loss: 0.1454 - accuracy: 0.9396\n",
      "Epoch 10/12\n",
      "20000/20000 [==============================] - 1s 53us/step - loss: 0.1421 - accuracy: 0.9400\n",
      "Epoch 11/12\n",
      "20000/20000 [==============================] - 1s 52us/step - loss: 0.1361 - accuracy: 0.9428\n",
      "Epoch 12/12\n",
      "20000/20000 [==============================] - 1s 52us/step - loss: 0.1391 - accuracy: 0.9408\n"
     ]
    },
    {
     "data": {
      "text/plain": [
       "<keras.callbacks.callbacks.History at 0x7f620dbcc550>"
      ]
     },
     "execution_count": 50,
     "metadata": {
      "tags": []
     },
     "output_type": "execute_result"
    }
   ],
   "source": [
    "# ann\n",
    "\n",
    "model = Sequential()\n",
    "\n",
    "model.add(Dense(30, activation='relu', input_shape=(nFeatures,)))\n",
    "\n",
    "# model.add(Dense(25, activation='relu'))\n",
    "model.add(Dense(10, activation='relu'))\n",
    "\n",
    "model.add(Dense(2, activation='softmax'))\n",
    "\n",
    "model.compile(loss='binary_crossentropy', optimizer='adam', metrics=['accuracy'])\n",
    "model.fit(x_anomalous[:,:nFeatures], keras.utils.to_categorical(y_anomalous, num_classes=2, dtype='float32')\n",
    " ,epochs=nEpochs,shuffle=True,verbose=1)"
   ]
  },
  {
   "cell_type": "code",
   "execution_count": null,
   "metadata": {
    "id": "VFG4FeJt0354"
   },
   "outputs": [],
   "source": [
    "for i in np.arange(6):\n",
    "    preds = model.predict(test_anomalous[i][0][:,:17])\n",
    "    cm = confusion_matrix(test_anomalous[i][1],np.argmax(preds, axis=1))\n",
    "    results.append(cm)"
   ]
  },
  {
   "cell_type": "code",
   "execution_count": null,
   "metadata": {
    "id": "VOjK2uK9WUQ2"
   },
   "outputs": [],
   "source": [
    "preds = model.predict(test_anomalous[0][0][:,:nFeatures])"
   ]
  },
  {
   "cell_type": "code",
   "execution_count": null,
   "metadata": {
    "colab": {
     "base_uri": "https://localhost:8080/",
     "height": 296
    },
    "id": "IPWJV-O-V1fs",
    "outputId": "4142366b-6246-46fd-b62e-67307aa20176"
   },
   "outputs": [
    {
     "data": {
      "text/plain": [
       "<sklearn.metrics._plot.confusion_matrix.ConfusionMatrixDisplay at 0x7f039ba1cef0>"
      ]
     },
     "execution_count": 22,
     "metadata": {
      "tags": []
     },
     "output_type": "execute_result"
    },
    {
     "data": {
      "image/png": "[encoded data removed]",
      "text/plain": [
       "<Figure size 432x288 with 2 Axes>"
      ]
     },
     "metadata": {
      "needs_background": "light",
      "tags": []
     },
     "output_type": "display_data"
    }
   ],
   "source": [
    "from sklearn.metrics import ConfusionMatrixDisplay\n",
    "cm = confusion_matrix(y_anomalous,np.argmax(preds, axis=1), normalize='all')\n",
    "disp = ConfusionMatrixDisplay(confusion_matrix=cm, display_labels=['norm','mal'])\n",
    "disp.plot()"
   ]
  },
  {
   "cell_type": "code",
   "execution_count": null,
   "metadata": {
    "colab": {
     "base_uri": "https://localhost:8080/"
    },
    "id": "h-SOZxF5Whqb",
    "outputId": "e883ec1d-07d9-4bc9-fe5d-226349fc9049"
   },
   "outputs": [
    {
     "name": "stderr",
     "output_type": "stream",
     "text": [
      "/usr/local/lib/python3.6/dist-packages/ipykernel_launcher.py:24: VisibleDeprecationWarning: Creating an ndarray from ragged nested sequences (which is a list-or-tuple of lists-or-tuples-or ndarrays with different lengths or shapes) is deprecated. If you meant to do this, you must specify 'dtype=object' when creating the ndarray\n"
     ]
    }
   ],
   "source": [
    "days_data = splitByDays(X[np.int(X.shape[0]*0.7):,:])\n",
    "\n",
    "a = np.concatenate([sampleUniform(days_data[3+j],40) for j in range(5)],axis=0)"
   ]
  },
  {
   "cell_type": "code",
   "execution_count": null,
   "metadata": {
    "id": "y259vYnaA5Hw"
   },
   "outputs": [],
   "source": [
    "# test the detector for anomalous data t1-t6:\n",
    "results = []\n",
    "mal_labels = np.ones((test_anomalous[0][0].shape[0]))\n",
    "for test in test_anomalous:\n",
    "    preds = model.predict(test[0][:,:17])\n",
    "    cm_up = confusion_matrix(mal_labels,np.argmax(preds, axis=1))\n",
    "    preds = model.predict(test[1][:,:17])\n",
    "    cm_down = confusion_matrix(mal_labels,np.argmax(preds, axis=1))\n",
    "    results.append([cm_up,cm_down])"
   ]
  },
  {
   "cell_type": "code",
   "execution_count": null,
   "metadata": {
    "id": "WKzmW9h2EwoG"
   },
   "outputs": [],
   "source": [
    "# prep test data \n",
    "test_norm = []\n",
    "for test in test_UAP:\n",
    "    adv_samples_up, _ = get_adv_samples(test, UAPs[0]*0, 5,5)\n",
    "    test_norm.append([adv_samples_up])"
   ]
  },
  {
   "cell_type": "code",
   "execution_count": null,
   "metadata": {
    "colab": {
     "base_uri": "https://localhost:8080/",
     "height": 296
    },
    "id": "Ru4z2VoMHl54",
    "outputId": "9ba8c63c-e741-47ba-87d5-69c5c5082e70"
   },
   "outputs": [
    {
     "data": {
      "text/plain": [
       "<sklearn.metrics._plot.confusion_matrix.ConfusionMatrixDisplay at 0x7f16bbac6e10>"
      ]
     },
     "execution_count": 58,
     "metadata": {
      "tags": []
     },
     "output_type": "execute_result"
    },
    {
     "data": {
      "image/png": "[encoded data removed]",
      "text/plain": [
       "<Figure size 432x288 with 2 Axes>"
      ]
     },
     "metadata": {
      "needs_background": "light",
      "tags": []
     },
     "output_type": "display_data"
    }
   ],
   "source": [
    "\n",
    "disp = ConfusionMatrixDisplay(confusion_matrix=results[0][0], display_labels=['norm','mal'])\n",
    "disp.plot()"
   ]
  },
  {
   "cell_type": "code",
   "execution_count": null,
   "metadata": {
    "id": "6Bdbx4ib242Z"
   },
   "outputs": [],
   "source": [
    "def calc_percision_recall(cm):\n",
    "    tn, fp = cm[0]\n",
    "    fn, tp = cm[1] \n",
    "    recall = tp/(tp+fn)\n",
    "    percision = tp/(tp+fp)\n",
    "    return percision, recall"
   ]
  },
  {
   "cell_type": "code",
   "execution_count": null,
   "metadata": {
    "id": "CYKznbAu3Eur"
   },
   "outputs": [],
   "source": [
    "res = []\n",
    "for cm in results:\n",
    "    res.append(calc_percision_recall(cm))"
   ]
  },
  {
   "cell_type": "markdown",
   "metadata": {},
   "source": [
    "KNN detection results"
   ]
  },
  {
   "cell_type": "code",
   "execution_count": null,
   "metadata": {
    "colab": {
     "base_uri": "https://localhost:8080/",
     "height": 282
    },
    "id": "BmP7BWxw4SjG",
    "outputId": "9b81d39e-b89b-41fd-a610-6c68c7fbe97c"
   },
   "outputs": [
    {
     "data": {
      "image/png": "[encoded data removed]",
      "text/plain": [
       "<Figure size 432x288 with 1 Axes>"
      ]
     },
     "metadata": {
      "needs_background": "light",
      "tags": []
     },
     "output_type": "display_data"
    }
   ],
   "source": [
    "\n",
    "test_num = [\"T'1\",\"T'2\",\"T'3\",\"T'4\",\"T'5\",\"T'6\"]\n",
    "per_knn = [res[i][0] for i in np.arange(0,6)]\n",
    "rec_knn = [res[i][1] for i in np.arange(0,6)]\n",
    "\n",
    "plt.plot(test_num, per_knn, '-o')\n",
    "plt.plot(test_num, rec_knn, '-o')\n",
    "\n",
    "plt.legend(['Precision','Recall'], fontsize=12)\n",
    "plt.xlabel('Test Set ',fontsize=13)\n",
    "plt.ylabel('Percentage',fontsize=13)\n",
    "plt.ylim([0,1.1])\n",
    "\n",
    "\n",
    "plt.savefig('knn-detection',bbox_inches='tight')"
   ]
  },
  {
   "cell_type": "markdown",
   "metadata": {},
   "source": [
    "ANN detection results"
   ]
  },
  {
   "cell_type": "code",
   "execution_count": null,
   "metadata": {
    "colab": {
     "base_uri": "https://localhost:8080/",
     "height": 282
    },
    "id": "Wd_CVAvg7Q5L",
    "outputId": "e9f16f2a-8589-42e1-cdf3-f666b2fb97f1"
   },
   "outputs": [
    {
     "data": {
      "image/png": "[encoded data removed]",
      "text/plain": [
       "<Figure size 432x288 with 1 Axes>"
      ]
     },
     "metadata": {
      "needs_background": "light",
      "tags": []
     },
     "output_type": "display_data"
    }
   ],
   "source": [
    "test_num = [\"T'1\",\"T'2\",\"T'3\",\"T'4\",\"T'5\",\"T'6\"]\n",
    "per_knn = [res[i][0] for i in np.arange(12,18)]\n",
    "rec_knn = [res[i][1] for i in np.arange(12,18)]\n",
    "\n",
    "plt.plot(test_num, per_knn, '-o')\n",
    "plt.plot(test_num, rec_knn, '-o')\n",
    "\n",
    "plt.legend(['Precision','Recall'], fontsize=12)\n",
    "plt.xlabel('Test Set ',fontsize=13)\n",
    "plt.ylabel('Percentage',fontsize=13)\n",
    "plt.ylim([0,1.1])\n",
    "\n",
    "\n",
    "plt.savefig('ann-detection',bbox_inches='tight')"
   ]
  }
 ],
 "metadata": {
  "colab": {
   "collapsed_sections": [],
   "machine_shape": "hm",
   "name": "Attacking_HFT_Systems.ipynb",
   "provenance": [],
   "toc_visible": true
  },
  "kernelspec": {
   "display_name": "Python 3",
   "language": "python",
   "name": "python3"
  },
  "language_info": {
   "codemirror_mode": {
    "name": "ipython",
    "version": 3
   },
   "file_extension": ".py",
   "mimetype": "text/x-python",
   "name": "python",
   "nbconvert_exporter": "python",
   "pygments_lexer": "ipython3",
   "version": "3.9.2"
  }
 },
 "nbformat": 4,
 "nbformat_minor": 4
}
